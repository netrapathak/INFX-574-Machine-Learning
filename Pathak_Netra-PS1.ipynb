{
 "cells": [
  {
   "cell_type": "markdown",
   "metadata": {},
   "source": [
    "###### Problem Set 1, due January 10th at 5:30pm \n",
    "\n",
    "\n",
    "###Before You Start\n",
    "Make sure to at least take a basic tutorial in the IPython notebook, otherwise you'll be totally lost.  For this problem set, you should download IMT574-PS1.ipynb and the flights.zip dataset from Canvas. Create a local copy of the notebook and rename it LASTNAME_FIRSTNAME-PS1.ipynb. Then edit your renamed file directly in your browser by typing:\n",
    "```\n",
    "ipython notebook <name_of_downloaded_file>\n",
    "```\n",
    "\n",
    "You should also make sure the following libraries load correctly (click on the box below and hit Ctrl-Enter)"
   ]
  },
  {
   "cell_type": "code",
   "execution_count": 21,
   "metadata": {
    "scrolled": false
   },
   "outputs": [
    {
     "name": "stdout",
     "output_type": "stream",
     "text": [
      "Numpy version:        1.15.4 (need at least 1.7.1)\n",
      "SciPy version:         1.1.0 (need at least 0.12.0)\n",
      "Pandas version:       0.23.4 (need at least 0.11.0)\n",
      "Mapltolib version:     3.0.2 (need at least 1.2.1)\n",
      "Scikit-Learn version: 0.20.1 (need at least 0.13.1)\n"
     ]
    }
   ],
   "source": [
    "# #IPython is what you are using now to run the notebook\n",
    "# import IPython\n",
    "# print \"IPython version:      %6.6s (need at least 1.0)\" % IPython.__version__\n",
    "\n",
    "# Numpy is a library for working with Arrays\n",
    "import numpy as np\n",
    "print (\"Numpy version:        %6.6s (need at least 1.7.1)\" % np.__version__)\n",
    "\n",
    "# SciPy implements many different numerical algorithms\n",
    "import scipy as sp\n",
    "print (\"SciPy version:        %6.6s (need at least 0.12.0)\" % sp.__version__)\n",
    "\n",
    "# Pandas makes working with data tables easier\n",
    "import pandas as pd\n",
    "print (\"Pandas version:       %6.6s (need at least 0.11.0)\" % pd.__version__)\n",
    "\n",
    "# Module for plotting\n",
    "import matplotlib\n",
    "print (\"Mapltolib version:    %6.6s (need at least 1.2.1)\" % matplotlib.__version__)\n",
    "\n",
    "# SciKit Learn implements several Machine Learning algorithms\n",
    "import sklearn\n",
    "print (\"Scikit-Learn version: %6.6s (need at least 0.13.1)\" % sklearn.__version__)"
   ]
  },
  {
   "cell_type": "markdown",
   "metadata": {},
   "source": [
    "##About the Problem Set: \n",
    "This is the same problem set used by Emma Spiro in INFX573. The only difference is that instead of doing the problem set in R, you will use Python and the IPython notebook.\n",
    "\n",
    "##Instructions: \n",
    "In this problem set you will perform a basic exploratory analysis on an example dataset, bringing to bear all of your new skills in data manipulation and visualization. You will be required to submit well commented python code, documenting all code used in this problem set, along with a write up answering all questions below. Use figures as appropriate to support your answers, and when required by the problem. \n",
    "This data set uses the NYCFlights13 dataset. You can download the dataset from canvas.\n",
    "Selected questions ask you to answer in multiple ways. Make sure to provide different functions or ways for answering the same question. This will help you see that most data questions can be answered in different ways even with the same software language."
   ]
  },
  {
   "cell_type": "code",
   "execution_count": 22,
   "metadata": {
    "scrolled": false
   },
   "outputs": [],
   "source": [
    "import pandas as pd\n",
    "import numpy as np\n",
    "import matplotlib.pyplot as plt"
   ]
  },
  {
   "cell_type": "code",
   "execution_count": 23,
   "metadata": {
    "scrolled": false
   },
   "outputs": [],
   "source": [
    "# read data\n",
    "flights_df= pd.read_csv('flights.csv')"
   ]
  },
  {
   "cell_type": "code",
   "execution_count": 24,
   "metadata": {
    "scrolled": false
   },
   "outputs": [
    {
     "name": "stdout",
     "output_type": "stream",
     "text": [
      "(336776, 17)\n",
      "Index(['Unnamed: 0', 'year', 'month', 'day', 'dep_time', 'dep_delay',\n",
      "       'arr_time', 'arr_delay', 'carrier', 'tailnum', 'flight', 'origin',\n",
      "       'dest', 'air_time', 'distance', 'hour', 'minute'],\n",
      "      dtype='object')\n",
      "Unnamed: 0      int64\n",
      "year            int64\n",
      "month           int64\n",
      "day             int64\n",
      "dep_time      float64\n",
      "dep_delay     float64\n",
      "arr_time      float64\n",
      "arr_delay     float64\n",
      "carrier        object\n",
      "tailnum        object\n",
      "flight          int64\n",
      "origin         object\n",
      "dest           object\n",
      "air_time      float64\n",
      "distance        int64\n",
      "hour          float64\n",
      "minute        float64\n",
      "dtype: object\n"
     ]
    }
   ],
   "source": [
    "# print summary details and statistics of the data\n",
    "print (flights_df.shape)\n",
    "print (flights_df.columns)\n",
    "print (flights_df.dtypes)"
   ]
  },
  {
   "cell_type": "code",
   "execution_count": 25,
   "metadata": {
    "scrolled": true
   },
   "outputs": [
    {
     "name": "stdout",
     "output_type": "stream",
     "text": [
      "['IAH' 'MIA' 'BQN' 'ATL' 'ORD' 'FLL' 'IAD' 'MCO' 'PBI' 'TPA' 'LAX' 'SFO'\n",
      " 'DFW' 'BOS' 'LAS' 'MSP' 'DTW' 'RSW' 'SJU' 'PHX' 'BWI' 'CLT' 'BUF' 'DEN'\n",
      " 'SNA' 'MSY' 'SLC' 'XNA' 'MKE' 'SEA' 'ROC' 'SYR' 'SRQ' 'RDU' 'CMH' 'JAX'\n",
      " 'CHS' 'MEM' 'PIT' 'SAN' 'DCA' 'CLE' 'STL' 'MYR' 'JAC' 'MDW' 'HNL' 'BNA'\n",
      " 'AUS' 'BTV' 'PHL' 'STT' 'EGE' 'AVL' 'PWM' 'IND' 'SAV' 'CAK' 'HOU' 'LGB'\n",
      " 'DAY' 'ALB' 'BDL' 'MHT' 'MSN' 'GSO' 'CVG' 'BUR' 'RIC' 'GSP' 'GRR' 'MCI'\n",
      " 'ORF' 'SAT' 'SDF' 'PDX' 'SJC' 'OMA' 'CRW' 'OAK' 'SMF' 'TUL' 'TYS' 'OKC'\n",
      " 'PVD' 'DSM' 'PSE' 'BHM' 'CAE' 'HDN' 'BZN' 'MTJ' 'EYW' 'PSP' 'ACK' 'BGR'\n",
      " 'ABQ' 'ILM' 'MVY' 'SBN' 'LEX' 'CHO' 'TVC' 'ANC' 'LGA']\n"
     ]
    },
    {
     "data": {
      "text/plain": [
       "array([2013])"
      ]
     },
     "execution_count": 25,
     "metadata": {},
     "output_type": "execute_result"
    }
   ],
   "source": [
    "a = flights_df.dest.unique()\n",
    "print(a)\n",
    "flights_df.head(10)\n",
    "flights_df.year.unique() # re-verify that entire data only for 2013 year"
   ]
  },
  {
   "cell_type": "markdown",
   "metadata": {},
   "source": [
    "##Some Tips\n",
    "\n",
    "* This assignment involves extensive Data frame splitting and aggregation. You should look into the details of the methods groupby, transform, sum, count, mean etc\n",
    "* Many of the tasks in the assignment can be done either through the Pandas Data Frame or by converting the data frames to Series. Many of the methods in the numpy are applicable to Series only. When stuck, try to explore the type of object (Pandas Data Frame or Numpy Series) you are dealing with."
   ]
  },
  {
   "cell_type": "markdown",
   "metadata": {},
   "source": [
    "##Question 1\n",
    "Let’s explore flights from NYC to Seattle. Use the flights dataset to answer the following questions.\n",
    "\n",
    "(a) How many flights were there from NYC airports to Seattle in 2013?"
   ]
  },
  {
   "cell_type": "code",
   "execution_count": 26,
   "metadata": {
    "scrolled": false
   },
   "outputs": [
    {
     "data": {
      "text/plain": [
       "3923"
      ]
     },
     "execution_count": 26,
     "metadata": {},
     "output_type": "execute_result"
    }
   ],
   "source": [
    "# number of flights from NYC to specific Seattle destination\n",
    "flights_df1=flights_df[ flights_df.dest=='SEA']\n",
    "flights_df1.shape[0]"
   ]
  },
  {
   "cell_type": "markdown",
   "metadata": {},
   "source": [
    " There were 3923 flights from NYC airports to Seattle in 2013."
   ]
  },
  {
   "cell_type": "markdown",
   "metadata": {},
   "source": [
    "(b) How many airlines fly from NYC to Seattle?"
   ]
  },
  {
   "cell_type": "code",
   "execution_count": 27,
   "metadata": {
    "scrolled": false
   },
   "outputs": [
    {
     "name": "stdout",
     "output_type": "stream",
     "text": [
      "['AS' 'DL' 'UA' 'B6' 'AA']\n"
     ]
    }
   ],
   "source": [
    "# Airlines flying from NYC to Seattle\n",
    "carriersN_to_seattle = flights_df1.carrier.unique()\n",
    "print(carriersN_to_seattle)"
   ]
  },
  {
   "cell_type": "markdown",
   "metadata": {},
   "source": [
    "5 flights fly from NYC to Seattle."
   ]
  },
  {
   "cell_type": "markdown",
   "metadata": {},
   "source": [
    "(c) How many unique air planes fly from NYC to Seattle?"
   ]
  },
  {
   "cell_type": "code",
   "execution_count": 28,
   "metadata": {
    "scrolled": false
   },
   "outputs": [
    {
     "data": {
      "text/plain": [
       "935"
      ]
     },
     "execution_count": 28,
     "metadata": {},
     "output_type": "execute_result"
    }
   ],
   "source": [
    "# Unique airplanes based on tailnum from NYC to Seattle\n",
    "flights_df1['tailnum'].nunique()\n"
   ]
  },
  {
   "cell_type": "markdown",
   "metadata": {},
   "source": [
    "935 unique air planes fly from NYC to Seattle."
   ]
  },
  {
   "cell_type": "markdown",
   "metadata": {},
   "source": [
    "(d) What is the average arrival delay for flights from NYC to Seattle?"
   ]
  },
  {
   "cell_type": "code",
   "execution_count": 29,
   "metadata": {
    "scrolled": false
   },
   "outputs": [
    {
     "data": {
      "text/plain": [
       "-1.0990990990990992"
      ]
     },
     "execution_count": 29,
     "metadata": {},
     "output_type": "execute_result"
    }
   ],
   "source": [
    "flights_df1['arr_delay'].mean()"
   ]
  },
  {
   "cell_type": "markdown",
   "metadata": {},
   "source": [
    "The average arrival delay for flights from NYC to Seattle is -1.099 minutes. This means the flights on average arrive 1.099 minutes early. "
   ]
  },
  {
   "cell_type": "markdown",
   "metadata": {},
   "source": [
    "(e) What proportion of flights to Seattle come from each NYC airport? Provide multiple ways of answering the question."
   ]
  },
  {
   "cell_type": "code",
   "execution_count": 40,
   "metadata": {
    "scrolled": false
   },
   "outputs": [
    {
     "name": "stdout",
     "output_type": "stream",
     "text": [
      "\n",
      " origin\n",
      "EWR    1831\n",
      "JFK    2092\n",
      "dtype: int64 \n",
      "\n",
      "Airport EWR has 1831 flights.\n",
      "Proportion of flights to Seattle from EWR is 46.67%. \n",
      "\n",
      "Airport JFK has 2092 flights.\n",
      "Proportion of flights to Seattle from JFK is 53.33%. \n",
      "\n",
      "Method 2 \n",
      "   origin  proportion\n",
      "0    EWR      0.4667\n",
      "1    JFK      0.5333\n"
     ]
    }
   ],
   "source": [
    "# find unique origins\n",
    "nyc_origins = flights_df1['origin'].unique() #list of airports in NYC\n",
    "\n",
    "flights_df1.describe() #find summary of dataframe\n",
    "# flights_df1.isna()\n",
    "flights_df1.columns[flights_df1.isna().any()].tolist() #names of columns that have NA values\n",
    "\n",
    "print (\"\\n\",flights_df1.groupby(['origin']).size(),\"\\n\")\n",
    "\n",
    "# Method 1 - iterating over each value in list of NYC airports\n",
    "for i in range(0, len(nyc_origins)):\n",
    "    num = flights_df1[flights_df1['origin'] == nyc_origins[i]].shape[0]\n",
    "    proportion = round(num/flights_df1.shape[0], 4) * 100 #calculate percentage\n",
    "    print('Airport %s has %d flights.' %(nyc_origins[i], num))\n",
    "    print ('Proportion of flights to Seattle from %s is %.2f%%.' %(nyc_origins[i], proportion), \"\\n\")\n",
    "    \n",
    "#Method 2 - groupby origin\n",
    "num = flights_df1.groupby(['origin']).size().reset_index(name = 'proportion')\n",
    "num['proportion'] = round(num['proportion']/flights_df1.shape[0],4)\n",
    "print(\"Method 2 \\n\", num)"
   ]
  },
  {
   "cell_type": "markdown",
   "metadata": {},
   "source": [
    "Proportion of flights to Seattle from EWR is 0.47 and proportion of flights to Seattle from JFK is 0.53. "
   ]
  },
  {
   "cell_type": "markdown",
   "metadata": {},
   "source": [
    "## Question 2\n",
    "Flights are often delayed. Consider the following questions exploring delay patterns.\n",
    "\n",
    "(a) Which date has the largest average departure delay? Which date has the largest average arrival delay?"
   ]
  },
  {
   "cell_type": "code",
   "execution_count": 31,
   "metadata": {
    "scrolled": false
   },
   "outputs": [
    {
     "data": {
      "text/plain": [
       "dep_delay   2013-03-08\n",
       "arr_delay   2013-03-08\n",
       "dtype: datetime64[ns]"
      ]
     },
     "execution_count": 31,
     "metadata": {},
     "output_type": "execute_result"
    }
   ],
   "source": [
    "import datetime\n",
    "\n",
    "flights_df['date'] = pd.to_datetime(flights_df[['year', 'month', 'day']]) #convert to date\n",
    "flights_df.head()\n",
    "\n",
    "#\n",
    "flights_df.dep_delay[flights_df['date']==\"2013-01-01\"].describe()\n",
    "flights_df.dep_delay[flights_df['date']==\"2013-01-01\"].dropna().shape[0]\n",
    "flights_df.dep_delay[flights_df['date']==\"2013-01-01\"].sum(skipna =True)\n",
    "flights_df.dep_delay[flights_df['date']==\"2013-01-01\"].mean(skipna =True)\n",
    "\n",
    "# Method 1 - create new dataframe with mean based on groupby date\n",
    "flights_df_avg = flights_df.groupby(['date']).mean().reset_index()\n",
    "# locate date for the index of the maximum average departure delay value\n",
    "flights_df_avg.loc[flights_df_avg['dep_delay'].idxmax()].loc['date']\n",
    "\n",
    "# Method 2 - group by date, output maximum mean of all departure delay, arrival delay independently on each date\n",
    "flights_df.groupby(['date'])['dep_delay', 'arr_delay'].mean().idxmax()"
   ]
  },
  {
   "cell_type": "markdown",
   "metadata": {},
   "source": [
    " -- Write your answer in English here -- "
   ]
  },
  {
   "cell_type": "markdown",
   "metadata": {},
   "source": [
    "(b) What was the worst day to fly out of NYC in 2013 if you dislike delayed flights?\n"
   ]
  },
  {
   "cell_type": "code",
   "execution_count": 44,
   "metadata": {
    "scrolled": false
   },
   "outputs": [
    {
     "name": "stdout",
     "output_type": "stream",
     "text": [
      "2013-03-08 00:00:00\n"
     ]
    },
    {
     "data": {
      "image/png": "[encoded data removed]",
      "text/plain": [
       "<Figure size 432x288 with 1 Axes>"
      ]
     },
     "metadata": {
      "needs_background": "light"
     },
     "output_type": "display_data"
    }
   ],
   "source": [
    "# considering total delay = arrival delay + departure delay\n",
    "flights_df['total_delay'] = np.where(flights_df['dep_delay'] >= 0, flights_df['dep_delay'], 0) + \\\n",
    "np.where(flights_df['arr_delay'] >= 0, flights_df['arr_delay'], 0)\n",
    "#365 days since for each day average total delay calculated\n",
    "flights_df.groupby(['date'])['total_delay'].mean().count() \n",
    "print(flights_df.groupby(['date'])['total_delay'].mean().idxmax())\n",
    "plt.plot(flights_df.groupby(['date'])['dep_delay'].mean())\n",
    "plt.grid()"
   ]
  },
  {
   "cell_type": "markdown",
   "metadata": {},
   "source": [
    "The positive values for both the delays indicate delayed flights while negative values indicates that the flights arrived or departed early. The total delay of a day is the sum of both positive delays (for all flights). Here, we will only consider the positive total delays because the negative values for total delay indicates that there was no net delay, there was maybe a delay on either arrival or departure which could be inconvinient for the passengers but is not exactly “delay”. \n",
    "\n",
    "Based on the limited information and subjective question, I have assumed that the worst day to fly out is the one with maximum average total delay for the particular day. Therefore, worst day is March 8th 2013. This can be seen from the graph too. \n"
   ]
  },
  {
   "cell_type": "markdown",
   "metadata": {},
   "source": [
    "(c) Are there any seasonal patterns in departure delays for flights from NYC?"
   ]
  },
  {
   "cell_type": "code",
   "execution_count": 33,
   "metadata": {
    "scrolled": false
   },
   "outputs": [
    {
     "data": {
      "image/png": "[encoded data removed]",
      "text/plain": [
       "<Figure size 432x288 with 1 Axes>"
      ]
     },
     "metadata": {
      "needs_background": "light"
     },
     "output_type": "display_data"
    }
   ],
   "source": [
    "# considering seasonal patterns based on months, groupby month wrt average departure delay in that month\n",
    "plt.plot(flights_df.groupby(['month'])['dep_delay'].mean())\n",
    "plt.grid()"
   ]
  },
  {
   "cell_type": "markdown",
   "metadata": {},
   "source": [
    "Yes, there are seasonal patterns in departure delays for flights from NYC. Considering that May - August is summer vacation and holiday season, many people travel and hence the number of flights increase. Due to large number of flights, the average departure delay in these months is high. For December, average departure delay again increases since it is Christmas break and people often fly out to meet families or go on short vacation. December may have higher departure delay also because of weather conditions. "
   ]
  },
  {
   "cell_type": "markdown",
   "metadata": {},
   "source": [
    "(d) On average, how do departure delays vary over the course of a day?"
   ]
  },
  {
   "cell_type": "code",
   "execution_count": 34,
   "metadata": {
    "scrolled": false
   },
   "outputs": [
    {
     "data": {
      "image/png": "[encoded data removed]",
      "text/plain": [
       "<Figure size 432x288 with 1 Axes>"
      ]
     },
     "metadata": {
      "needs_background": "light"
     },
     "output_type": "display_data"
    }
   ],
   "source": [
    "plt.plot(flights_df.groupby(['hour'])['dep_delay'].mean())\n",
    "plt.grid()"
   ]
  },
  {
   "cell_type": "markdown",
   "metadata": {},
   "source": [
    "We can observe that departure delay is at the peak at 4 am. increases very fast from 12 to 4 AM where its the highest. This maybe attributed to 2 reasons - a) many people in the business industry depart early morning for work and return in the evening after attending meetings/conferences, b) less staff in the early hours. \n",
    "Flights 4 am onwards seem to be leaving mostly on time. With increase in air traffic, there is a steady increase in the departure delay post afternoon, with a jump at 11 PM (most people returning back home)."
   ]
  },
  {
   "cell_type": "markdown",
   "metadata": {},
   "source": [
    "## Question 3\n",
    "    Which flight departing NYC in 2013 flew the fastest?"
   ]
  },
  {
   "cell_type": "code",
   "execution_count": 46,
   "metadata": {
    "scrolled": false
   },
   "outputs": [
    {
     "name": "stdout",
     "output_type": "stream",
     "text": [
      "       carrier tailnum  flight\n",
      "216447      DL  N666DN    1499\n"
     ]
    }
   ],
   "source": [
    "flights_df['speed'] = flights_df['distance']/flights_df['air_time']\n",
    "#returns the entire row with all details for the max speed observation\n",
    "flights_df[flights_df['speed']==flights_df['speed'].max()] \n",
    "print(flights_df[['carrier', 'tailnum', 'flight']][flights_df.speed == flights_df.speed.max()])"
   ]
  },
  {
   "cell_type": "markdown",
   "metadata": {},
   "source": [
    "Airline DL, Airplane N666DN with flight number 1499 flew the fastest from NYC in 2013."
   ]
  },
  {
   "cell_type": "markdown",
   "metadata": {},
   "source": [
    "## Question 4\n",
    "Which flights (i.e. carrier + flight + dest) happen every day? Where do they fly to?"
   ]
  },
  {
   "cell_type": "code",
   "execution_count": 47,
   "metadata": {
    "scrolled": true
   },
   "outputs": [
    {
     "name": "stdout",
     "output_type": "stream",
     "text": [
      "The following flights fly happened every day from NYC in the year 2013:\n"
     ]
    },
    {
     "data": {
      "text/html": [
       "<div>\n",
       "<style scoped>\n",
       "    .dataframe tbody tr th:only-of-type {\n",
       "        vertical-align: middle;\n",
       "    }\n",
       "\n",
       "    .dataframe tbody tr th {\n",
       "        vertical-align: top;\n",
       "    }\n",
       "\n",
       "    .dataframe thead th {\n",
       "        text-align: right;\n",
       "    }\n",
       "</style>\n",
       "<table border=\"1\" class=\"dataframe\">\n",
       "  <thead>\n",
       "    <tr style=\"text-align: right;\">\n",
       "      <th></th>\n",
       "      <th>carrier</th>\n",
       "      <th>flight</th>\n",
       "      <th>dest</th>\n",
       "      <th>daily_count</th>\n",
       "    </tr>\n",
       "  </thead>\n",
       "  <tbody>\n",
       "    <tr>\n",
       "      <th>767</th>\n",
       "      <td>AA</td>\n",
       "      <td>59</td>\n",
       "      <td>SFO</td>\n",
       "      <td>365</td>\n",
       "    </tr>\n",
       "    <tr>\n",
       "      <th>775</th>\n",
       "      <td>AA</td>\n",
       "      <td>119</td>\n",
       "      <td>LAX</td>\n",
       "      <td>365</td>\n",
       "    </tr>\n",
       "    <tr>\n",
       "      <th>783</th>\n",
       "      <td>AA</td>\n",
       "      <td>181</td>\n",
       "      <td>LAX</td>\n",
       "      <td>365</td>\n",
       "    </tr>\n",
       "    <tr>\n",
       "      <th>904</th>\n",
       "      <td>AA</td>\n",
       "      <td>1357</td>\n",
       "      <td>SJU</td>\n",
       "      <td>365</td>\n",
       "    </tr>\n",
       "    <tr>\n",
       "      <th>914</th>\n",
       "      <td>AA</td>\n",
       "      <td>1611</td>\n",
       "      <td>MIA</td>\n",
       "      <td>365</td>\n",
       "    </tr>\n",
       "    <tr>\n",
       "      <th>1118</th>\n",
       "      <td>B6</td>\n",
       "      <td>219</td>\n",
       "      <td>CLT</td>\n",
       "      <td>365</td>\n",
       "    </tr>\n",
       "    <tr>\n",
       "      <th>1147</th>\n",
       "      <td>B6</td>\n",
       "      <td>359</td>\n",
       "      <td>BUR</td>\n",
       "      <td>365</td>\n",
       "    </tr>\n",
       "    <tr>\n",
       "      <th>1150</th>\n",
       "      <td>B6</td>\n",
       "      <td>371</td>\n",
       "      <td>FLL</td>\n",
       "      <td>365</td>\n",
       "    </tr>\n",
       "    <tr>\n",
       "      <th>1169</th>\n",
       "      <td>B6</td>\n",
       "      <td>431</td>\n",
       "      <td>SRQ</td>\n",
       "      <td>365</td>\n",
       "    </tr>\n",
       "    <tr>\n",
       "      <th>1243</th>\n",
       "      <td>B6</td>\n",
       "      <td>703</td>\n",
       "      <td>SJU</td>\n",
       "      <td>365</td>\n",
       "    </tr>\n",
       "    <tr>\n",
       "      <th>1379</th>\n",
       "      <td>B6</td>\n",
       "      <td>1783</td>\n",
       "      <td>MCO</td>\n",
       "      <td>365</td>\n",
       "    </tr>\n",
       "    <tr>\n",
       "      <th>2012</th>\n",
       "      <td>DL</td>\n",
       "      <td>2159</td>\n",
       "      <td>MCO</td>\n",
       "      <td>365</td>\n",
       "    </tr>\n",
       "    <tr>\n",
       "      <th>2081</th>\n",
       "      <td>DL</td>\n",
       "      <td>2391</td>\n",
       "      <td>TPA</td>\n",
       "      <td>365</td>\n",
       "    </tr>\n",
       "    <tr>\n",
       "      <th>4631</th>\n",
       "      <td>EV</td>\n",
       "      <td>5712</td>\n",
       "      <td>IAD</td>\n",
       "      <td>365</td>\n",
       "    </tr>\n",
       "    <tr>\n",
       "      <th>5116</th>\n",
       "      <td>UA</td>\n",
       "      <td>15</td>\n",
       "      <td>HNL</td>\n",
       "      <td>365</td>\n",
       "    </tr>\n",
       "    <tr>\n",
       "      <th>10607</th>\n",
       "      <td>VX</td>\n",
       "      <td>251</td>\n",
       "      <td>LAS</td>\n",
       "      <td>365</td>\n",
       "    </tr>\n",
       "    <tr>\n",
       "      <th>10609</th>\n",
       "      <td>VX</td>\n",
       "      <td>407</td>\n",
       "      <td>LAX</td>\n",
       "      <td>365</td>\n",
       "    </tr>\n",
       "    <tr>\n",
       "      <th>10613</th>\n",
       "      <td>VX</td>\n",
       "      <td>413</td>\n",
       "      <td>LAX</td>\n",
       "      <td>365</td>\n",
       "    </tr>\n",
       "  </tbody>\n",
       "</table>\n",
       "</div>"
      ],
      "text/plain": [
       "      carrier  flight dest  daily_count\n",
       "767        AA      59  SFO          365\n",
       "775        AA     119  LAX          365\n",
       "783        AA     181  LAX          365\n",
       "904        AA    1357  SJU          365\n",
       "914        AA    1611  MIA          365\n",
       "1118       B6     219  CLT          365\n",
       "1147       B6     359  BUR          365\n",
       "1150       B6     371  FLL          365\n",
       "1169       B6     431  SRQ          365\n",
       "1243       B6     703  SJU          365\n",
       "1379       B6    1783  MCO          365\n",
       "2012       DL    2159  MCO          365\n",
       "2081       DL    2391  TPA          365\n",
       "4631       EV    5712  IAD          365\n",
       "5116       UA      15  HNL          365\n",
       "10607      VX     251  LAS          365\n",
       "10609      VX     407  LAX          365\n",
       "10613      VX     413  LAX          365"
      ]
     },
     "execution_count": 47,
     "metadata": {},
     "output_type": "execute_result"
    }
   ],
   "source": [
    "#calculate no. of unique days each flight flew for, out of total 365\n",
    "flights_df_day_count = flights_df.groupby(['carrier', 'flight', 'dest']).date.nunique().reset_index(name = 'daily_count') \n",
    "print(\"The following flights fly happened every day from NYC in the year 2013:\")\n",
    "flights_df_day_count[flights_df_day_count['daily_count'] == 365] #filter flights that flew daily"
   ]
  },
  {
   "cell_type": "markdown",
   "metadata": {},
   "source": [
    "The flights fly every day to the following destinations:\n",
    "1. 'SFO' -- San Francisco International Airport (CA)\n",
    "2. 'LAX'-- Los Angeles International Airport (CA)\n",
    "3. 'SJU' -- San Juan Airport Hotel (Puerto Rico)\n",
    "4. 'MIA' -- Miami International Airport (FL)\n",
    "5. 'CLT' -- Charlotte Douglas International Airport (NC)\n",
    "6. 'BUR' -- Bob Hope Airport (CA)\n",
    "7. 'FLL' -- Fort Lauderdale–Hollywood International Airport (FL)\n",
    "8. 'SRQ' -- Sarasota–Bradenton International Airport (FL)\n",
    "9. 'MCO' -- Orlando International Airport (FL)\n",
    "10. 'TPA' -- Tampa International Airport (FL)\n",
    "11. 'IAD' -- Washington Dulles International Airport (VI)\n",
    "12. 'HNL' -- Honolulu International Airport \n",
    "13. 'LAS' -- McCarran International Airport (CA)\n",
    "\n",
    "These flights are between NY and the following places: California, Puerto Rico, Florida, North Carolina and Virginia."
   ]
  },
  {
   "cell_type": "markdown",
   "metadata": {},
   "source": [
    "## Question 5\n",
    "Develop one research question you can address using the nycflights2013 dataset. Provide two visualizations to support your exploration of this question. Discuss what you find.\n"
   ]
  },
  {
   "cell_type": "markdown",
   "metadata": {},
   "source": [
    "Research Question - Is there a significant effect of Destination Airport on the “delay in arrival time” that is observed upon a flight’s arrival to its designated destination."
   ]
  },
  {
   "cell_type": "markdown",
   "metadata": {},
   "source": [
    " -- Enter your discussion here --"
   ]
  },
  {
   "cell_type": "markdown",
   "metadata": {},
   "source": [
    "## Question 6\n",
    "What weather conditions are associated with flight delays leaving NYC? Use graphics to explore."
   ]
  },
  {
   "cell_type": "code",
   "execution_count": 48,
   "metadata": {
    "scrolled": true
   },
   "outputs": [
    {
     "name": "stdout",
     "output_type": "stream",
     "text": [
      "(8719, 15)\n",
      "Index(['Unnamed: 0', 'origin', 'year', 'month', 'day', 'hour', 'temp', 'dewp',\n",
      "       'humid', 'wind_dir', 'wind_speed', 'wind_gust', 'precip', 'pressure',\n",
      "       'visib'],\n",
      "      dtype='object')\n"
     ]
    },
    {
     "data": {
      "image/png": "[encoded data removed]",
      "text/plain": [
       "<Figure size 432x288 with 1 Axes>"
      ]
     },
     "metadata": {
      "needs_background": "light"
     },
     "output_type": "display_data"
    }
   ],
   "source": [
    "weather_df= pd.read_csv('weather.csv')\n",
    "print (weather_df.shape)\n",
    "print (weather_df.columns)\n",
    "flights_df['dep_delay'] = flights_df['dep_delay'].apply(lambda x: x if x >=0 else 0)\n",
    "# alternate way to filter delays:\n",
    "# flights_df['dep_delay'] = np.where(flights_df['dep_delay']>=0, flights_df['dep_delay'], 0)\n",
    "\n",
    "flights_df['dep_delay'].describe()\n",
    "flights_df['arr_delay'] = flights_df['arr_delay'].apply(lambda x: x if x >=0 else 0)\n",
    "flights_df['total_delay'] = flights_df['dep_delay'] + flights_df['arr_delay']\n",
    "\n",
    "weather_conditions_df = pd.merge(flights_df, weather_df, how='left', on=['origin','year', 'month', 'day','hour'])\n",
    "weather_conditions_df.head(10)\n",
    "weather_conditions_df = weather_conditions_df[['dep_delay','temp','dewp','humid','wind_dir','wind_speed','wind_gust','precip','pressure','visib']]\n",
    "\n",
    "corr = weather_conditions_df.corr()\n",
    "corr['dep_delay'].sort_values(ascending = False).to_frame().style.background_gradient(cmap='coolwarm').set_precision(2)\n",
    "\n",
    "#Plot temperature vs departure delay\n",
    "temp = weather_conditions_df.groupby(['temp'])['dep_delay'].mean()\n",
    "plt.plot(temp)\n",
    "plt.title('Temperature vs Average Departure Delay')\n",
    "plt.show()"
   ]
  },
  {
   "cell_type": "markdown",
   "metadata": {},
   "source": [
    "-- Enter your interpretation here --"
   ]
  },
  {
   "cell_type": "code",
   "execution_count": null,
   "metadata": {},
   "outputs": [],
   "source": []
  }
 ],
 "metadata": {
  "kernelspec": {
   "display_name": "Python 3",
   "language": "python",
   "name": "python3"
  },
  "language_info": {
   "codemirror_mode": {
    "name": "ipython",
    "version": 3
   },
   "file_extension": ".py",
   "mimetype": "text/x-python",
   "name": "python",
   "nbconvert_exporter": "python",
   "pygments_lexer": "ipython3",
   "version": "3.7.1"
  }
 },
 "nbformat": 4,
 "nbformat_minor": 1
}
