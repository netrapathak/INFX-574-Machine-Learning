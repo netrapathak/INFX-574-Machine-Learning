{
 "cells": [
  {
   "cell_type": "markdown",
   "metadata": {},
   "source": [
    "###### Problem Set 1, due January 10th at 5:30pm \n",
    "\n",
    "\n",
    "###Before You Start\n",
    "Make sure to at least take a basic tutorial in the IPython notebook, otherwise you'll be totally lost.  For this problem set, you should download IMT574-PS1.ipynb and the flights.zip dataset from Canvas. Create a local copy of the notebook and rename it LASTNAME_FIRSTNAME-PS1.ipynb. Then edit your renamed file directly in your browser by typing:\n",
    "```\n",
    "ipython notebook <name_of_downloaded_file>\n",
    "```\n",
    "\n",
    "You should also make sure the following libraries load correctly (click on the box below and hit Ctrl-Enter)"
   ]
  },
  {
   "cell_type": "code",
   "execution_count": 23,
   "metadata": {
    "scrolled": false
   },
   "outputs": [
    {
     "name": "stdout",
     "output_type": "stream",
     "text": [
      "Numpy version:        1.15.4 (need at least 1.7.1)\n",
      "SciPy version:         1.1.0 (need at least 0.12.0)\n",
      "Pandas version:       0.23.4 (need at least 0.11.0)\n",
      "Mapltolib version:     3.0.2 (need at least 1.2.1)\n",
      "Scikit-Learn version: 0.20.1 (need at least 0.13.1)\n"
     ]
    }
   ],
   "source": [
    "# #IPython is what you are using now to run the notebook\n",
    "# import IPython\n",
    "# print \"IPython version:      %6.6s (need at least 1.0)\" % IPython.__version__\n",
    "\n",
    "# Numpy is a library for working with Arrays\n",
    "import numpy as np\n",
    "print (\"Numpy version:        %6.6s (need at least 1.7.1)\" % np.__version__)\n",
    "\n",
    "# SciPy implements many different numerical algorithms\n",
    "import scipy as sp\n",
    "print (\"SciPy version:        %6.6s (need at least 0.12.0)\" % sp.__version__)\n",
    "\n",
    "# Pandas makes working with data tables easier\n",
    "import pandas as pd\n",
    "print (\"Pandas version:       %6.6s (need at least 0.11.0)\" % pd.__version__)\n",
    "\n",
    "# Module for plotting\n",
    "import matplotlib\n",
    "print (\"Mapltolib version:    %6.6s (need at least 1.2.1)\" % matplotlib.__version__)\n",
    "\n",
    "# SciKit Learn implements several Machine Learning algorithms\n",
    "import sklearn\n",
    "print (\"Scikit-Learn version: %6.6s (need at least 0.13.1)\" % sklearn.__version__)"
   ]
  },
  {
   "cell_type": "markdown",
   "metadata": {},
   "source": [
    "##About the Problem Set: \n",
    "This is the same problem set used by Emma Spiro in INFX573. The only difference is that instead of doing the problem set in R, you will use Python and the IPython notebook.\n",
    "\n",
    "##Instructions: \n",
    "In this problem set you will perform a basic exploratory analysis on an example dataset, bringing to bear all of your new skills in data manipulation and visualization. You will be required to submit well commented python code, documenting all code used in this problem set, along with a write up answering all questions below. Use figures as appropriate to support your answers, and when required by the problem. \n",
    "This data set uses the NYCFlights13 dataset. You can download the dataset from canvas.\n",
    "Selected questions ask you to answer in multiple ways. Make sure to provide different functions or ways for answering the same question. This will help you see that most data questions can be answered in different ways even with the same software language."
   ]
  },
  {
   "cell_type": "code",
   "execution_count": 24,
   "metadata": {
    "scrolled": false
   },
   "outputs": [],
   "source": [
    "import pandas as pd\n",
    "import numpy as np\n",
    "import matplotlib.pyplot as plt"
   ]
  },
  {
   "cell_type": "code",
   "execution_count": 25,
   "metadata": {
    "scrolled": false
   },
   "outputs": [],
   "source": [
    "# read data\n",
    "flights_df= pd.read_csv('flights.csv')"
   ]
  },
  {
   "cell_type": "code",
   "execution_count": 26,
   "metadata": {
    "scrolled": false
   },
   "outputs": [
    {
     "name": "stdout",
     "output_type": "stream",
     "text": [
      "(336776, 17)\n",
      "Index(['Unnamed: 0', 'year', 'month', 'day', 'dep_time', 'dep_delay',\n",
      "       'arr_time', 'arr_delay', 'carrier', 'tailnum', 'flight', 'origin',\n",
      "       'dest', 'air_time', 'distance', 'hour', 'minute'],\n",
      "      dtype='object')\n",
      "Unnamed: 0      int64\n",
      "year            int64\n",
      "month           int64\n",
      "day             int64\n",
      "dep_time      float64\n",
      "dep_delay     float64\n",
      "arr_time      float64\n",
      "arr_delay     float64\n",
      "carrier        object\n",
      "tailnum        object\n",
      "flight          int64\n",
      "origin         object\n",
      "dest           object\n",
      "air_time      float64\n",
      "distance        int64\n",
      "hour          float64\n",
      "minute        float64\n",
      "dtype: object\n"
     ]
    }
   ],
   "source": [
    "# print summary details and statistics of the data\n",
    "print (flights_df.shape)\n",
    "print (flights_df.columns)\n",
    "print (flights_df.dtypes)"
   ]
  },
  {
   "cell_type": "code",
   "execution_count": 27,
   "metadata": {
    "scrolled": true
   },
   "outputs": [
    {
     "name": "stdout",
     "output_type": "stream",
     "text": [
      "['IAH' 'MIA' 'BQN' 'ATL' 'ORD' 'FLL' 'IAD' 'MCO' 'PBI' 'TPA' 'LAX' 'SFO'\n",
      " 'DFW' 'BOS' 'LAS' 'MSP' 'DTW' 'RSW' 'SJU' 'PHX' 'BWI' 'CLT' 'BUF' 'DEN'\n",
      " 'SNA' 'MSY' 'SLC' 'XNA' 'MKE' 'SEA' 'ROC' 'SYR' 'SRQ' 'RDU' 'CMH' 'JAX'\n",
      " 'CHS' 'MEM' 'PIT' 'SAN' 'DCA' 'CLE' 'STL' 'MYR' 'JAC' 'MDW' 'HNL' 'BNA'\n",
      " 'AUS' 'BTV' 'PHL' 'STT' 'EGE' 'AVL' 'PWM' 'IND' 'SAV' 'CAK' 'HOU' 'LGB'\n",
      " 'DAY' 'ALB' 'BDL' 'MHT' 'MSN' 'GSO' 'CVG' 'BUR' 'RIC' 'GSP' 'GRR' 'MCI'\n",
      " 'ORF' 'SAT' 'SDF' 'PDX' 'SJC' 'OMA' 'CRW' 'OAK' 'SMF' 'TUL' 'TYS' 'OKC'\n",
      " 'PVD' 'DSM' 'PSE' 'BHM' 'CAE' 'HDN' 'BZN' 'MTJ' 'EYW' 'PSP' 'ACK' 'BGR'\n",
      " 'ABQ' 'ILM' 'MVY' 'SBN' 'LEX' 'CHO' 'TVC' 'ANC' 'LGA']\n"
     ]
    },
    {
     "data": {
      "text/plain": [
       "array([2013])"
      ]
     },
     "execution_count": 27,
     "metadata": {},
     "output_type": "execute_result"
    }
   ],
   "source": [
    "a = flights_df.dest.unique()\n",
    "print(a)\n",
    "flights_df.head(10)\n",
    "flights_df.year.unique() # re-verify that entire data only for 2013 year"
   ]
  },
  {
   "cell_type": "markdown",
   "metadata": {},
   "source": [
    "##Some Tips\n",
    "\n",
    "* This assignment involves extensive Data frame splitting and aggregation. You should look into the details of the methods groupby, transform, sum, count, mean etc\n",
    "* Many of the tasks in the assignment can be done either through the Pandas Data Frame or by converting the data frames to Series. Many of the methods in the numpy are applicable to Series only. When stuck, try to explore the type of object (Pandas Data Frame or Numpy Series) you are dealing with."
   ]
  },
  {
   "cell_type": "markdown",
   "metadata": {},
   "source": [
    "##Question 1\n",
    "Let’s explore flights from NYC to Seattle. Use the flights dataset to answer the following questions.\n",
    "\n",
    "(a) How many flights were there from NYC airports to Seattle in 2013?"
   ]
  },
  {
   "cell_type": "code",
   "execution_count": 28,
   "metadata": {
    "scrolled": false
   },
   "outputs": [
    {
     "data": {
      "text/plain": [
       "3923"
      ]
     },
     "execution_count": 28,
     "metadata": {},
     "output_type": "execute_result"
    }
   ],
   "source": [
    "# number of flights from NYC to specific Seattle destination\n",
    "flights_df1=flights_df[ flights_df.dest=='SEA']\n",
    "flights_df1.shape[0]"
   ]
  },
  {
   "cell_type": "markdown",
   "metadata": {},
   "source": [
    " There were 3923 flights from NYC airports to Seattle in 2013."
   ]
  },
  {
   "cell_type": "markdown",
   "metadata": {},
   "source": [
    "(b) How many airlines fly from NYC to Seattle?"
   ]
  },
  {
   "cell_type": "code",
   "execution_count": 29,
   "metadata": {
    "scrolled": false
   },
   "outputs": [
    {
     "name": "stdout",
     "output_type": "stream",
     "text": [
      "['AS' 'DL' 'UA' 'B6' 'AA']\n"
     ]
    }
   ],
   "source": [
    "# Airlines flying from NYC to Seattle\n",
    "carriersN_to_seattle = flights_df1.carrier.unique()\n",
    "print(carriersN_to_seattle)"
   ]
  },
  {
   "cell_type": "markdown",
   "metadata": {},
   "source": [
    "5 flights fly from NYC to Seattle."
   ]
  },
  {
   "cell_type": "markdown",
   "metadata": {},
   "source": [
    "(c) How many unique air planes fly from NYC to Seattle?"
   ]
  },
  {
   "cell_type": "code",
   "execution_count": 30,
   "metadata": {
    "scrolled": false
   },
   "outputs": [
    {
     "data": {
      "text/plain": [
       "935"
      ]
     },
     "execution_count": 30,
     "metadata": {},
     "output_type": "execute_result"
    }
   ],
   "source": [
    "# Unique airplanes based on tailnum from NYC to Seattle\n",
    "flights_df1['tailnum'].nunique()\n"
   ]
  },
  {
   "cell_type": "markdown",
   "metadata": {},
   "source": [
    "935 unique air planes fly from NYC to Seattle."
   ]
  },
  {
   "cell_type": "markdown",
   "metadata": {},
   "source": [
    "(d) What is the average arrival delay for flights from NYC to Seattle?"
   ]
  },
  {
   "cell_type": "code",
   "execution_count": 31,
   "metadata": {
    "scrolled": false
   },
   "outputs": [
    {
     "data": {
      "text/plain": [
       "-1.0990990990990992"
      ]
     },
     "execution_count": 31,
     "metadata": {},
     "output_type": "execute_result"
    }
   ],
   "source": [
    "flights_df1['arr_delay'].mean()"
   ]
  },
  {
   "cell_type": "markdown",
   "metadata": {},
   "source": [
    "The average arrival delay for flights from NYC to Seattle is -1.099 minutes. This means the flights on average arrive 1.099 minutes early. "
   ]
  },
  {
   "cell_type": "markdown",
   "metadata": {},
   "source": [
    "(e) What proportion of flights to Seattle come from each NYC airport? Provide multiple ways of answering the question."
   ]
  },
  {
   "cell_type": "code",
   "execution_count": 32,
   "metadata": {
    "scrolled": false
   },
   "outputs": [
    {
     "name": "stdout",
     "output_type": "stream",
     "text": [
      "\n",
      " origin\n",
      "EWR    1831\n",
      "JFK    2092\n",
      "dtype: int64 \n",
      "\n",
      "Airport EWR has 1831 flights.\n",
      "Proportion of flights to Seattle from EWR is 46.67%. \n",
      "\n",
      "Airport JFK has 2092 flights.\n",
      "Proportion of flights to Seattle from JFK is 53.33%. \n",
      "\n",
      "Method 2 \n",
      "   origin  proportion\n",
      "0    EWR      0.4667\n",
      "1    JFK      0.5333\n"
     ]
    }
   ],
   "source": [
    "# find unique origins\n",
    "nyc_origins = flights_df1['origin'].unique() #list of airports in NYC\n",
    "\n",
    "flights_df1.describe() #find summary of dataframe\n",
    "# flights_df1.isna()\n",
    "flights_df1.columns[flights_df1.isna().any()].tolist() #names of columns that have NA values\n",
    "\n",
    "print (\"\\n\",flights_df1.groupby(['origin']).size(),\"\\n\")\n",
    "\n",
    "# Method 1 - iterating over each value in list of NYC airports\n",
    "for i in range(0, len(nyc_origins)):\n",
    "    num = flights_df1[flights_df1['origin'] == nyc_origins[i]].shape[0]\n",
    "    proportion = round(num/flights_df1.shape[0], 4) * 100 #calculate percentage\n",
    "    print('Airport %s has %d flights.' %(nyc_origins[i], num))\n",
    "    print ('Proportion of flights to Seattle from %s is %.2f%%.' %(nyc_origins[i], proportion), \"\\n\")\n",
    "    \n",
    "#Method 2 - groupby origin\n",
    "num = flights_df1.groupby(['origin']).size().reset_index(name = 'proportion')\n",
    "num['proportion'] = round(num['proportion']/flights_df1.shape[0],4)\n",
    "print(\"Method 2 \\n\", num)"
   ]
  },
  {
   "cell_type": "markdown",
   "metadata": {},
   "source": [
    "Proportion of flights to Seattle from EWR is 0.47 and proportion of flights to Seattle from JFK is 0.53. "
   ]
  },
  {
   "cell_type": "markdown",
   "metadata": {},
   "source": [
    "## Question 2\n",
    "Flights are often delayed. Consider the following questions exploring delay patterns.\n",
    "\n",
    "(a) Which date has the largest average departure delay? Which date has the largest average arrival delay?"
   ]
  },
  {
   "cell_type": "code",
   "execution_count": 33,
   "metadata": {
    "scrolled": false
   },
   "outputs": [
    {
     "data": {
      "text/plain": [
       "dep_delay   2013-03-08\n",
       "arr_delay   2013-03-08\n",
       "dtype: datetime64[ns]"
      ]
     },
     "execution_count": 33,
     "metadata": {},
     "output_type": "execute_result"
    }
   ],
   "source": [
    "import datetime\n",
    "\n",
    "flights_df['date'] = pd.to_datetime(flights_df[['year', 'month', 'day']]) #convert to date\n",
    "flights_df.head()\n",
    "\n",
    "# To re-verify the results, checking manually for a particular date\n",
    "flights_df.dep_delay[flights_df['date']==\"2013-01-01\"].describe()\n",
    "flights_df.dep_delay[flights_df['date']==\"2013-01-01\"].dropna().shape[0]\n",
    "flights_df.dep_delay[flights_df['date']==\"2013-01-01\"].sum(skipna =True)\n",
    "flights_df.dep_delay[flights_df['date']==\"2013-01-01\"].mean(skipna =True)\n",
    "\n",
    "# Method 1 - create new dataframe with mean based on groupby date\n",
    "flights_df_avg = flights_df.groupby(['date']).mean().reset_index()\n",
    "# locate date for the index of the maximum average departure delay value\n",
    "flights_df_avg.loc[flights_df_avg['dep_delay'].idxmax()].loc['date']\n",
    "\n",
    "# Method 2 - group by date, output maximum mean of all departure delay, arrival delay independently on each date\n",
    "flights_df.groupby(['date'])['dep_delay', 'arr_delay'].mean().idxmax()"
   ]
  },
  {
   "cell_type": "markdown",
   "metadata": {},
   "source": [
    "8th March 2013 had the largest average departure delay as well as the largest arrival delay. "
   ]
  },
  {
   "cell_type": "markdown",
   "metadata": {},
   "source": [
    "(b) What was the worst day to fly out of NYC in 2013 if you dislike delayed flights?\n"
   ]
  },
  {
   "cell_type": "code",
   "execution_count": 34,
   "metadata": {
    "scrolled": false
   },
   "outputs": [
    {
     "name": "stdout",
     "output_type": "stream",
     "text": [
      "2013-03-08 00:00:00\n"
     ]
    },
    {
     "data": {
      "image/png": "[encoded data removed]",
      "text/plain": [
       "<Figure size 432x288 with 1 Axes>"
      ]
     },
     "metadata": {
      "needs_background": "light"
     },
     "output_type": "display_data"
    }
   ],
   "source": [
    "# considering total delay = arrival delay + departure delay\n",
    "flights_df['total_delay'] = np.where(flights_df['dep_delay'] >= 0, flights_df['dep_delay'], 0) + \\\n",
    "np.where(flights_df['arr_delay'] >= 0, flights_df['arr_delay'], 0)\n",
    "#365 days since for each day average total delay calculated\n",
    "flights_df.groupby(['date'])['total_delay'].mean().count() \n",
    "print(flights_df.groupby(['date'])['total_delay'].mean().idxmax())\n",
    "plt.plot(flights_df.groupby(['date'])['dep_delay'].mean())\n",
    "plt.xlabel(\"Date\")\n",
    "plt.ylabel(\"Time\")\n",
    "plt.grid()"
   ]
  },
  {
   "cell_type": "markdown",
   "metadata": {},
   "source": [
    "The positive values for both the delays indicate delayed flights while negative values indicates that the flights arrived or departed early. The total delay of a day is the sum of both positive delays (for all flights). Here, we will only consider the positive total delays because the negative values for total delay indicates that there was no net delay, there was maybe a delay on either arrival or departure which could be inconvinient for the passengers but is not exactly “delay”. \n",
    "\n",
    "Based on the limited information and subjective question, I have assumed that the worst day to fly out is the one with maximum average total delay for the particular day. Therefore, worst day is March 8th 2013. This can be seen from the graph too. \n"
   ]
  },
  {
   "cell_type": "markdown",
   "metadata": {},
   "source": [
    "(c) Are there any seasonal patterns in departure delays for flights from NYC?"
   ]
  },
  {
   "cell_type": "code",
   "execution_count": 35,
   "metadata": {
    "scrolled": true
   },
   "outputs": [
    {
     "data": {
      "image/png": "[encoded data removed]",
      "text/plain": [
       "<Figure size 432x288 with 1 Axes>"
      ]
     },
     "metadata": {
      "needs_background": "light"
     },
     "output_type": "display_data"
    }
   ],
   "source": [
    "# considering seasonal patterns based on months, groupby month wrt average departure delay in that month\n",
    "plt.plot(flights_df.groupby(['month'])['dep_delay'].mean())\n",
    "plt.xlabel(\"Months\")\n",
    "plt.ylabel(\"Average Departure Delay (in minutes)\")\n",
    "plt.grid()"
   ]
  },
  {
   "cell_type": "markdown",
   "metadata": {},
   "source": [
    "Yes, there are seasonal patterns in departure delays for flights from NYC. Considering that May - August is summer vacation and holiday season, many people travel and hence the number of flights increase. Due to large number of flights, the average departure delay in these months is high. For December, average departure delay again increases since it is Christmas break and people often fly out to meet families or go on short vacation. December may have higher departure delay also because of weather conditions. "
   ]
  },
  {
   "cell_type": "markdown",
   "metadata": {},
   "source": [
    "(d) On average, how do departure delays vary over the course of a day?"
   ]
  },
  {
   "cell_type": "code",
   "execution_count": 36,
   "metadata": {
    "scrolled": false
   },
   "outputs": [
    {
     "data": {
      "image/png": "[encoded data removed]",
      "text/plain": [
       "<Figure size 432x288 with 1 Axes>"
      ]
     },
     "metadata": {
      "needs_background": "light"
     },
     "output_type": "display_data"
    }
   ],
   "source": [
    "plt.plot(flights_df.groupby(['hour'])['dep_delay'].mean())\n",
    "plt.xlabel(\"Hour\")\n",
    "plt.ylabel(\"Departure Delay (in minutes)\")\n",
    "plt.grid()"
   ]
  },
  {
   "cell_type": "markdown",
   "metadata": {},
   "source": [
    "We can observe that departure delay is at the peak at 4 am. increases very fast from 12 to 4 AM where its the highest. This maybe attributed to 2 reasons - a) many people in the business industry depart early morning for work and return in the evening after attending meetings/conferences, b) less staff in the early hours. \n",
    "Flights 4 am onwards seem to be leaving mostly on time. With increase in air traffic, there is a steady increase in the departure delay post afternoon, with a jump at 11 PM (most people returning back home)."
   ]
  },
  {
   "cell_type": "markdown",
   "metadata": {},
   "source": [
    "## Question 3\n",
    "    Which flight departing NYC in 2013 flew the fastest?"
   ]
  },
  {
   "cell_type": "code",
   "execution_count": 37,
   "metadata": {
    "scrolled": false
   },
   "outputs": [
    {
     "name": "stdout",
     "output_type": "stream",
     "text": [
      "       carrier tailnum  flight\n",
      "216447      DL  N666DN    1499\n"
     ]
    }
   ],
   "source": [
    "flights_df['speed'] = flights_df['distance']/flights_df['air_time']\n",
    "#returns the entire row with all details for the max speed observation\n",
    "flights_df[flights_df['speed']==flights_df['speed'].max()] \n",
    "print(flights_df[['carrier', 'tailnum', 'flight']][flights_df.speed == flights_df.speed.max()])"
   ]
  },
  {
   "cell_type": "markdown",
   "metadata": {},
   "source": [
    "Airline DL, Airplane N666DN with flight number 1499 flew the fastest from NYC in 2013."
   ]
  },
  {
   "cell_type": "markdown",
   "metadata": {},
   "source": [
    "## Question 4\n",
    "Which flights (i.e. carrier + flight + dest) happen every day? Where do they fly to?"
   ]
  },
  {
   "cell_type": "code",
   "execution_count": 38,
   "metadata": {
    "scrolled": true
   },
   "outputs": [
    {
     "name": "stdout",
     "output_type": "stream",
     "text": [
      "The following flights fly happened every day from NYC in the year 2013:\n"
     ]
    },
    {
     "data": {
      "text/html": [
       "<div>\n",
       "<style scoped>\n",
       "    .dataframe tbody tr th:only-of-type {\n",
       "        vertical-align: middle;\n",
       "    }\n",
       "\n",
       "    .dataframe tbody tr th {\n",
       "        vertical-align: top;\n",
       "    }\n",
       "\n",
       "    .dataframe thead th {\n",
       "        text-align: right;\n",
       "    }\n",
       "</style>\n",
       "<table border=\"1\" class=\"dataframe\">\n",
       "  <thead>\n",
       "    <tr style=\"text-align: right;\">\n",
       "      <th></th>\n",
       "      <th>carrier</th>\n",
       "      <th>flight</th>\n",
       "      <th>dest</th>\n",
       "      <th>daily_count</th>\n",
       "    </tr>\n",
       "  </thead>\n",
       "  <tbody>\n",
       "    <tr>\n",
       "      <th>767</th>\n",
       "      <td>AA</td>\n",
       "      <td>59</td>\n",
       "      <td>SFO</td>\n",
       "      <td>365</td>\n",
       "    </tr>\n",
       "    <tr>\n",
       "      <th>775</th>\n",
       "      <td>AA</td>\n",
       "      <td>119</td>\n",
       "      <td>LAX</td>\n",
       "      <td>365</td>\n",
       "    </tr>\n",
       "    <tr>\n",
       "      <th>783</th>\n",
       "      <td>AA</td>\n",
       "      <td>181</td>\n",
       "      <td>LAX</td>\n",
       "      <td>365</td>\n",
       "    </tr>\n",
       "    <tr>\n",
       "      <th>904</th>\n",
       "      <td>AA</td>\n",
       "      <td>1357</td>\n",
       "      <td>SJU</td>\n",
       "      <td>365</td>\n",
       "    </tr>\n",
       "    <tr>\n",
       "      <th>914</th>\n",
       "      <td>AA</td>\n",
       "      <td>1611</td>\n",
       "      <td>MIA</td>\n",
       "      <td>365</td>\n",
       "    </tr>\n",
       "    <tr>\n",
       "      <th>1118</th>\n",
       "      <td>B6</td>\n",
       "      <td>219</td>\n",
       "      <td>CLT</td>\n",
       "      <td>365</td>\n",
       "    </tr>\n",
       "    <tr>\n",
       "      <th>1147</th>\n",
       "      <td>B6</td>\n",
       "      <td>359</td>\n",
       "      <td>BUR</td>\n",
       "      <td>365</td>\n",
       "    </tr>\n",
       "    <tr>\n",
       "      <th>1150</th>\n",
       "      <td>B6</td>\n",
       "      <td>371</td>\n",
       "      <td>FLL</td>\n",
       "      <td>365</td>\n",
       "    </tr>\n",
       "    <tr>\n",
       "      <th>1169</th>\n",
       "      <td>B6</td>\n",
       "      <td>431</td>\n",
       "      <td>SRQ</td>\n",
       "      <td>365</td>\n",
       "    </tr>\n",
       "    <tr>\n",
       "      <th>1243</th>\n",
       "      <td>B6</td>\n",
       "      <td>703</td>\n",
       "      <td>SJU</td>\n",
       "      <td>365</td>\n",
       "    </tr>\n",
       "    <tr>\n",
       "      <th>1379</th>\n",
       "      <td>B6</td>\n",
       "      <td>1783</td>\n",
       "      <td>MCO</td>\n",
       "      <td>365</td>\n",
       "    </tr>\n",
       "    <tr>\n",
       "      <th>2012</th>\n",
       "      <td>DL</td>\n",
       "      <td>2159</td>\n",
       "      <td>MCO</td>\n",
       "      <td>365</td>\n",
       "    </tr>\n",
       "    <tr>\n",
       "      <th>2081</th>\n",
       "      <td>DL</td>\n",
       "      <td>2391</td>\n",
       "      <td>TPA</td>\n",
       "      <td>365</td>\n",
       "    </tr>\n",
       "    <tr>\n",
       "      <th>4631</th>\n",
       "      <td>EV</td>\n",
       "      <td>5712</td>\n",
       "      <td>IAD</td>\n",
       "      <td>365</td>\n",
       "    </tr>\n",
       "    <tr>\n",
       "      <th>5116</th>\n",
       "      <td>UA</td>\n",
       "      <td>15</td>\n",
       "      <td>HNL</td>\n",
       "      <td>365</td>\n",
       "    </tr>\n",
       "    <tr>\n",
       "      <th>10607</th>\n",
       "      <td>VX</td>\n",
       "      <td>251</td>\n",
       "      <td>LAS</td>\n",
       "      <td>365</td>\n",
       "    </tr>\n",
       "    <tr>\n",
       "      <th>10609</th>\n",
       "      <td>VX</td>\n",
       "      <td>407</td>\n",
       "      <td>LAX</td>\n",
       "      <td>365</td>\n",
       "    </tr>\n",
       "    <tr>\n",
       "      <th>10613</th>\n",
       "      <td>VX</td>\n",
       "      <td>413</td>\n",
       "      <td>LAX</td>\n",
       "      <td>365</td>\n",
       "    </tr>\n",
       "  </tbody>\n",
       "</table>\n",
       "</div>"
      ],
      "text/plain": [
       "      carrier  flight dest  daily_count\n",
       "767        AA      59  SFO          365\n",
       "775        AA     119  LAX          365\n",
       "783        AA     181  LAX          365\n",
       "904        AA    1357  SJU          365\n",
       "914        AA    1611  MIA          365\n",
       "1118       B6     219  CLT          365\n",
       "1147       B6     359  BUR          365\n",
       "1150       B6     371  FLL          365\n",
       "1169       B6     431  SRQ          365\n",
       "1243       B6     703  SJU          365\n",
       "1379       B6    1783  MCO          365\n",
       "2012       DL    2159  MCO          365\n",
       "2081       DL    2391  TPA          365\n",
       "4631       EV    5712  IAD          365\n",
       "5116       UA      15  HNL          365\n",
       "10607      VX     251  LAS          365\n",
       "10609      VX     407  LAX          365\n",
       "10613      VX     413  LAX          365"
      ]
     },
     "execution_count": 38,
     "metadata": {},
     "output_type": "execute_result"
    }
   ],
   "source": [
    "#calculate no. of unique days each flight flew for, out of total 365\n",
    "flights_df_day_count = flights_df.groupby(['carrier', 'flight', 'dest']).date.nunique().reset_index(name = 'daily_count') \n",
    "print(\"The following flights fly happened every day from NYC in the year 2013:\")\n",
    "flights_df_day_count[flights_df_day_count['daily_count'] == 365] #filter flights that flew daily"
   ]
  },
  {
   "cell_type": "markdown",
   "metadata": {},
   "source": [
    "The flights fly every day to the following destinations:\n",
    "1. 'SFO' -- San Francisco International Airport (CA)\n",
    "2. 'LAX'-- Los Angeles International Airport (CA)\n",
    "3. 'SJU' -- San Juan Airport Hotel (Puerto Rico)\n",
    "4. 'MIA' -- Miami International Airport (FL)\n",
    "5. 'CLT' -- Charlotte Douglas International Airport (NC)\n",
    "6. 'BUR' -- Bob Hope Airport (CA)\n",
    "7. 'FLL' -- Fort Lauderdale–Hollywood International Airport (FL)\n",
    "8. 'SRQ' -- Sarasota–Bradenton International Airport (FL)\n",
    "9. 'MCO' -- Orlando International Airport (FL)\n",
    "10. 'TPA' -- Tampa International Airport (FL)\n",
    "11. 'IAD' -- Washington Dulles International Airport (VI)\n",
    "12. 'HNL' -- Honolulu International Airport \n",
    "13. 'LAS' -- McCarran International Airport (CA)\n",
    "\n",
    "These flights are between NY and the following places: California, Puerto Rico, Florida, North Carolina and Virginia."
   ]
  },
  {
   "cell_type": "markdown",
   "metadata": {},
   "source": [
    "## Question 5\n",
    "Develop one research question you can address using the nycflights2013 dataset. Provide two visualizations to support your exploration of this question. Discuss what you find.\n"
   ]
  },
  {
   "cell_type": "markdown",
   "metadata": {},
   "source": [
    "Research Question - With respect to “Total Delay”, which \"Airline(s)\" have the minimum and maximum delays?"
   ]
  },
  {
   "cell_type": "code",
   "execution_count": 39,
   "metadata": {},
   "outputs": [
    {
     "data": {
      "image/png": "[encoded data removed]",
      "text/plain": [
       "<Figure size 432x288 with 1 Axes>"
      ]
     },
     "metadata": {
      "needs_background": "light"
     },
     "output_type": "display_data"
    },
    {
     "data": {
      "image/png": "[encoded data removed]",
      "text/plain": [
       "<Figure size 432x288 with 1 Axes>"
      ]
     },
     "metadata": {
      "needs_background": "light"
     },
     "output_type": "display_data"
    }
   ],
   "source": [
    "#Average Total Delay grouped by airlines\n",
    "avg_total_delay = flights_df.groupby(['carrier'])['total_delay'].mean().reset_index()\n",
    "avg_total_delay = avg_total_delay.sort_values('total_delay', ascending = False)\n",
    "barplot = plt.bar(avg_total_delay['carrier'], avg_total_delay['total_delay'], color = 'darkgreen', alpha = 0.85)\n",
    "barplot[0].set_color('darkred')\n",
    "\n",
    "avg_dep_delay = flights_df.groupby(['carrier'])['dep_delay'].mean().reset_index()\n",
    "# avg_dep_delay = avg_dep_delay.sort_values('carrier')\n",
    "\n",
    "avg_arr_delay = flights_df.groupby(['carrier'])['arr_delay'].mean().reset_index()\n",
    "# avg_arr_delay = avg_arr_delay.sort_values('carrier')\n",
    "\n",
    "df = pd.DataFrame({'dep_delay': list(avg_dep_delay['dep_delay']), 'arr_delay': list(avg_arr_delay['arr_delay'])}, index=avg_dep_delay['carrier'])\n",
    "ax = df.plot.bar(rot=0)"
   ]
  },
  {
   "cell_type": "markdown",
   "metadata": {},
   "source": [
    " As we can see, F9 i.e. Frontier Airline had the maximum delay in 2013 for the flights from NYC and hence customers can avoid that if they want. "
   ]
  },
  {
   "cell_type": "markdown",
   "metadata": {},
   "source": [
    "## Question 6\n",
    "What weather conditions are associated with flight delays leaving NYC? Use graphics to explore."
   ]
  },
  {
   "cell_type": "code",
   "execution_count": 40,
   "metadata": {
    "scrolled": true
   },
   "outputs": [
    {
     "name": "stdout",
     "output_type": "stream",
     "text": [
      "(8719, 15)\n",
      "Index(['Unnamed: 0', 'origin', 'year', 'month', 'day', 'hour', 'temp', 'dewp',\n",
      "       'humid', 'wind_dir', 'wind_speed', 'wind_gust', 'precip', 'pressure',\n",
      "       'visib'],\n",
      "      dtype='object')\n"
     ]
    },
    {
     "data": {
      "text/html": [
       "<style  type=\"text/css\" >\n",
       "    #T_1652ff32_5cbe_11e9_b5ac_f0189852fe35row0_col0 {\n",
       "            background-color:  #7f2704;\n",
       "        }    #T_1652ff32_5cbe_11e9_b5ac_f0189852fe35row0_col1 {\n",
       "            background-color:  #fdcfa0;\n",
       "        }    #T_1652ff32_5cbe_11e9_b5ac_f0189852fe35row0_col2 {\n",
       "            background-color:  #fdc997;\n",
       "        }    #T_1652ff32_5cbe_11e9_b5ac_f0189852fe35row0_col3 {\n",
       "            background-color:  #fdb475;\n",
       "        }    #T_1652ff32_5cbe_11e9_b5ac_f0189852fe35row0_col4 {\n",
       "            background-color:  #fdd2a6;\n",
       "        }    #T_1652ff32_5cbe_11e9_b5ac_f0189852fe35row0_col5 {\n",
       "            background-color:  #fee6ce;\n",
       "        }    #T_1652ff32_5cbe_11e9_b5ac_f0189852fe35row0_col6 {\n",
       "            background-color:  #fee6ce;\n",
       "        }    #T_1652ff32_5cbe_11e9_b5ac_f0189852fe35row0_col7 {\n",
       "            background-color:  #fdc997;\n",
       "        }    #T_1652ff32_5cbe_11e9_b5ac_f0189852fe35row0_col8 {\n",
       "            background-color:  #fee4ca;\n",
       "        }    #T_1652ff32_5cbe_11e9_b5ac_f0189852fe35row0_col9 {\n",
       "            background-color:  #fdce9e;\n",
       "        }    #T_1652ff32_5cbe_11e9_b5ac_f0189852fe35row1_col0 {\n",
       "            background-color:  #fedebd;\n",
       "        }    #T_1652ff32_5cbe_11e9_b5ac_f0189852fe35row1_col1 {\n",
       "            background-color:  #7f2704;\n",
       "        }    #T_1652ff32_5cbe_11e9_b5ac_f0189852fe35row1_col2 {\n",
       "            background-color:  #9b3203;\n",
       "        }    #T_1652ff32_5cbe_11e9_b5ac_f0189852fe35row1_col3 {\n",
       "            background-color:  #fdb678;\n",
       "        }    #T_1652ff32_5cbe_11e9_b5ac_f0189852fe35row1_col4 {\n",
       "            background-color:  #fdd8b2;\n",
       "        }    #T_1652ff32_5cbe_11e9_b5ac_f0189852fe35row1_col5 {\n",
       "            background-color:  #feeddc;\n",
       "        }    #T_1652ff32_5cbe_11e9_b5ac_f0189852fe35row1_col6 {\n",
       "            background-color:  #feeddc;\n",
       "        }    #T_1652ff32_5cbe_11e9_b5ac_f0189852fe35row1_col7 {\n",
       "            background-color:  #fdd5ab;\n",
       "        }    #T_1652ff32_5cbe_11e9_b5ac_f0189852fe35row1_col8 {\n",
       "            background-color:  #fff2e5;\n",
       "        }    #T_1652ff32_5cbe_11e9_b5ac_f0189852fe35row1_col9 {\n",
       "            background-color:  #fdac67;\n",
       "        }    #T_1652ff32_5cbe_11e9_b5ac_f0189852fe35row2_col0 {\n",
       "            background-color:  #fedebf;\n",
       "        }    #T_1652ff32_5cbe_11e9_b5ac_f0189852fe35row2_col1 {\n",
       "            background-color:  #9b3203;\n",
       "        }    #T_1652ff32_5cbe_11e9_b5ac_f0189852fe35row2_col2 {\n",
       "            background-color:  #7f2704;\n",
       "        }    #T_1652ff32_5cbe_11e9_b5ac_f0189852fe35row2_col3 {\n",
       "            background-color:  #ec620f;\n",
       "        }    #T_1652ff32_5cbe_11e9_b5ac_f0189852fe35row2_col4 {\n",
       "            background-color:  #fee9d4;\n",
       "        }    #T_1652ff32_5cbe_11e9_b5ac_f0189852fe35row2_col5 {\n",
       "            background-color:  #fff2e6;\n",
       "        }    #T_1652ff32_5cbe_11e9_b5ac_f0189852fe35row2_col6 {\n",
       "            background-color:  #fff2e6;\n",
       "        }    #T_1652ff32_5cbe_11e9_b5ac_f0189852fe35row2_col7 {\n",
       "            background-color:  #fdc895;\n",
       "        }    #T_1652ff32_5cbe_11e9_b5ac_f0189852fe35row2_col8 {\n",
       "            background-color:  #fff5eb;\n",
       "        }    #T_1652ff32_5cbe_11e9_b5ac_f0189852fe35row2_col9 {\n",
       "            background-color:  #fdd1a4;\n",
       "        }    #T_1652ff32_5cbe_11e9_b5ac_f0189852fe35row3_col0 {\n",
       "            background-color:  #fee5cc;\n",
       "        }    #T_1652ff32_5cbe_11e9_b5ac_f0189852fe35row3_col1 {\n",
       "            background-color:  #fdd7b1;\n",
       "        }    #T_1652ff32_5cbe_11e9_b5ac_f0189852fe35row3_col2 {\n",
       "            background-color:  #f5741f;\n",
       "        }    #T_1652ff32_5cbe_11e9_b5ac_f0189852fe35row3_col3 {\n",
       "            background-color:  #7f2704;\n",
       "        }    #T_1652ff32_5cbe_11e9_b5ac_f0189852fe35row3_col4 {\n",
       "            background-color:  #fff5eb;\n",
       "        }    #T_1652ff32_5cbe_11e9_b5ac_f0189852fe35row3_col5 {\n",
       "            background-color:  #fff5eb;\n",
       "        }    #T_1652ff32_5cbe_11e9_b5ac_f0189852fe35row3_col6 {\n",
       "            background-color:  #fff5eb;\n",
       "        }    #T_1652ff32_5cbe_11e9_b5ac_f0189852fe35row3_col7 {\n",
       "            background-color:  #fdb170;\n",
       "        }    #T_1652ff32_5cbe_11e9_b5ac_f0189852fe35row3_col8 {\n",
       "            background-color:  #fee9d4;\n",
       "        }    #T_1652ff32_5cbe_11e9_b5ac_f0189852fe35row3_col9 {\n",
       "            background-color:  #fff5eb;\n",
       "        }    #T_1652ff32_5cbe_11e9_b5ac_f0189852fe35row4_col0 {\n",
       "            background-color:  #fee9d4;\n",
       "        }    #T_1652ff32_5cbe_11e9_b5ac_f0189852fe35row4_col1 {\n",
       "            background-color:  #fee0c3;\n",
       "        }    #T_1652ff32_5cbe_11e9_b5ac_f0189852fe35row4_col2 {\n",
       "            background-color:  #feeddb;\n",
       "        }    #T_1652ff32_5cbe_11e9_b5ac_f0189852fe35row4_col3 {\n",
       "            background-color:  #fee6cf;\n",
       "        }    #T_1652ff32_5cbe_11e9_b5ac_f0189852fe35row4_col4 {\n",
       "            background-color:  #7f2704;\n",
       "        }    #T_1652ff32_5cbe_11e9_b5ac_f0189852fe35row4_col5 {\n",
       "            background-color:  #fdd4aa;\n",
       "        }    #T_1652ff32_5cbe_11e9_b5ac_f0189852fe35row4_col6 {\n",
       "            background-color:  #fdd4aa;\n",
       "        }    #T_1652ff32_5cbe_11e9_b5ac_f0189852fe35row4_col7 {\n",
       "            background-color:  #fedfc0;\n",
       "        }    #T_1652ff32_5cbe_11e9_b5ac_f0189852fe35row4_col8 {\n",
       "            background-color:  #ffeede;\n",
       "        }    #T_1652ff32_5cbe_11e9_b5ac_f0189852fe35row4_col9 {\n",
       "            background-color:  #fd8e3d;\n",
       "        }    #T_1652ff32_5cbe_11e9_b5ac_f0189852fe35row5_col0 {\n",
       "            background-color:  #fee5cc;\n",
       "        }    #T_1652ff32_5cbe_11e9_b5ac_f0189852fe35row5_col1 {\n",
       "            background-color:  #fedfc0;\n",
       "        }    #T_1652ff32_5cbe_11e9_b5ac_f0189852fe35row5_col2 {\n",
       "            background-color:  #fee1c4;\n",
       "        }    #T_1652ff32_5cbe_11e9_b5ac_f0189852fe35row5_col3 {\n",
       "            background-color:  #fdcd9c;\n",
       "        }    #T_1652ff32_5cbe_11e9_b5ac_f0189852fe35row5_col4 {\n",
       "            background-color:  #fdb576;\n",
       "        }    #T_1652ff32_5cbe_11e9_b5ac_f0189852fe35row5_col5 {\n",
       "            background-color:  #7f2704;\n",
       "        }    #T_1652ff32_5cbe_11e9_b5ac_f0189852fe35row5_col6 {\n",
       "            background-color:  #7f2704;\n",
       "        }    #T_1652ff32_5cbe_11e9_b5ac_f0189852fe35row5_col7 {\n",
       "            background-color:  #fdd5ab;\n",
       "        }    #T_1652ff32_5cbe_11e9_b5ac_f0189852fe35row5_col8 {\n",
       "            background-color:  #fee0c3;\n",
       "        }    #T_1652ff32_5cbe_11e9_b5ac_f0189852fe35row5_col9 {\n",
       "            background-color:  #fdaf6c;\n",
       "        }    #T_1652ff32_5cbe_11e9_b5ac_f0189852fe35row6_col0 {\n",
       "            background-color:  #fee5cc;\n",
       "        }    #T_1652ff32_5cbe_11e9_b5ac_f0189852fe35row6_col1 {\n",
       "            background-color:  #fedfc0;\n",
       "        }    #T_1652ff32_5cbe_11e9_b5ac_f0189852fe35row6_col2 {\n",
       "            background-color:  #fee1c4;\n",
       "        }    #T_1652ff32_5cbe_11e9_b5ac_f0189852fe35row6_col3 {\n",
       "            background-color:  #fdcd9c;\n",
       "        }    #T_1652ff32_5cbe_11e9_b5ac_f0189852fe35row6_col4 {\n",
       "            background-color:  #fdb576;\n",
       "        }    #T_1652ff32_5cbe_11e9_b5ac_f0189852fe35row6_col5 {\n",
       "            background-color:  #7f2704;\n",
       "        }    #T_1652ff32_5cbe_11e9_b5ac_f0189852fe35row6_col6 {\n",
       "            background-color:  #7f2704;\n",
       "        }    #T_1652ff32_5cbe_11e9_b5ac_f0189852fe35row6_col7 {\n",
       "            background-color:  #fdd5ab;\n",
       "        }    #T_1652ff32_5cbe_11e9_b5ac_f0189852fe35row6_col8 {\n",
       "            background-color:  #fee0c3;\n",
       "        }    #T_1652ff32_5cbe_11e9_b5ac_f0189852fe35row6_col9 {\n",
       "            background-color:  #fdaf6c;\n",
       "        }    #T_1652ff32_5cbe_11e9_b5ac_f0189852fe35row7_col0 {\n",
       "            background-color:  #fedfc0;\n",
       "        }    #T_1652ff32_5cbe_11e9_b5ac_f0189852fe35row7_col1 {\n",
       "            background-color:  #fdd9b5;\n",
       "        }    #T_1652ff32_5cbe_11e9_b5ac_f0189852fe35row7_col2 {\n",
       "            background-color:  #fdc997;\n",
       "        }    #T_1652ff32_5cbe_11e9_b5ac_f0189852fe35row7_col3 {\n",
       "            background-color:  #fd994d;\n",
       "        }    #T_1652ff32_5cbe_11e9_b5ac_f0189852fe35row7_col4 {\n",
       "            background-color:  #fddbb8;\n",
       "        }    #T_1652ff32_5cbe_11e9_b5ac_f0189852fe35row7_col5 {\n",
       "            background-color:  #fee9d4;\n",
       "        }    #T_1652ff32_5cbe_11e9_b5ac_f0189852fe35row7_col6 {\n",
       "            background-color:  #fee9d4;\n",
       "        }    #T_1652ff32_5cbe_11e9_b5ac_f0189852fe35row7_col7 {\n",
       "            background-color:  #7f2704;\n",
       "        }    #T_1652ff32_5cbe_11e9_b5ac_f0189852fe35row7_col8 {\n",
       "            background-color:  #fee1c4;\n",
       "        }    #T_1652ff32_5cbe_11e9_b5ac_f0189852fe35row7_col9 {\n",
       "            background-color:  #fee2c7;\n",
       "        }    #T_1652ff32_5cbe_11e9_b5ac_f0189852fe35row8_col0 {\n",
       "            background-color:  #fff4e9;\n",
       "        }    #T_1652ff32_5cbe_11e9_b5ac_f0189852fe35row8_col1 {\n",
       "            background-color:  #fff5eb;\n",
       "        }    #T_1652ff32_5cbe_11e9_b5ac_f0189852fe35row8_col2 {\n",
       "            background-color:  #fff5eb;\n",
       "        }    #T_1652ff32_5cbe_11e9_b5ac_f0189852fe35row8_col3 {\n",
       "            background-color:  #fdd3a9;\n",
       "        }    #T_1652ff32_5cbe_11e9_b5ac_f0189852fe35row8_col4 {\n",
       "            background-color:  #feebd8;\n",
       "        }    #T_1652ff32_5cbe_11e9_b5ac_f0189852fe35row8_col5 {\n",
       "            background-color:  #fff2e6;\n",
       "        }    #T_1652ff32_5cbe_11e9_b5ac_f0189852fe35row8_col6 {\n",
       "            background-color:  #fff2e6;\n",
       "        }    #T_1652ff32_5cbe_11e9_b5ac_f0189852fe35row8_col7 {\n",
       "            background-color:  #fee0c3;\n",
       "        }    #T_1652ff32_5cbe_11e9_b5ac_f0189852fe35row8_col8 {\n",
       "            background-color:  #7f2704;\n",
       "        }    #T_1652ff32_5cbe_11e9_b5ac_f0189852fe35row8_col9 {\n",
       "            background-color:  #fda45d;\n",
       "        }    #T_1652ff32_5cbe_11e9_b5ac_f0189852fe35row9_col0 {\n",
       "            background-color:  #fff5eb;\n",
       "        }    #T_1652ff32_5cbe_11e9_b5ac_f0189852fe35row9_col1 {\n",
       "            background-color:  #fdcfa0;\n",
       "        }    #T_1652ff32_5cbe_11e9_b5ac_f0189852fe35row9_col2 {\n",
       "            background-color:  #fee8d2;\n",
       "        }    #T_1652ff32_5cbe_11e9_b5ac_f0189852fe35row9_col3 {\n",
       "            background-color:  #fff5eb;\n",
       "        }    #T_1652ff32_5cbe_11e9_b5ac_f0189852fe35row9_col4 {\n",
       "            background-color:  #fda057;\n",
       "        }    #T_1652ff32_5cbe_11e9_b5ac_f0189852fe35row9_col5 {\n",
       "            background-color:  #fee2c7;\n",
       "        }    #T_1652ff32_5cbe_11e9_b5ac_f0189852fe35row9_col6 {\n",
       "            background-color:  #fee2c7;\n",
       "        }    #T_1652ff32_5cbe_11e9_b5ac_f0189852fe35row9_col7 {\n",
       "            background-color:  #fff5eb;\n",
       "        }    #T_1652ff32_5cbe_11e9_b5ac_f0189852fe35row9_col8 {\n",
       "            background-color:  #fdc189;\n",
       "        }    #T_1652ff32_5cbe_11e9_b5ac_f0189852fe35row9_col9 {\n",
       "            background-color:  #7f2704;\n",
       "        }</style>  \n",
       "<table id=\"T_1652ff32_5cbe_11e9_b5ac_f0189852fe35\" > \n",
       "<thead>    <tr> \n",
       "        <th class=\"blank level0\" ></th> \n",
       "        <th class=\"col_heading level0 col0\" >total_delay</th> \n",
       "        <th class=\"col_heading level0 col1\" >temp</th> \n",
       "        <th class=\"col_heading level0 col2\" >dewp</th> \n",
       "        <th class=\"col_heading level0 col3\" >humid</th> \n",
       "        <th class=\"col_heading level0 col4\" >wind_dir</th> \n",
       "        <th class=\"col_heading level0 col5\" >wind_speed</th> \n",
       "        <th class=\"col_heading level0 col6\" >wind_gust</th> \n",
       "        <th class=\"col_heading level0 col7\" >precip</th> \n",
       "        <th class=\"col_heading level0 col8\" >pressure</th> \n",
       "        <th class=\"col_heading level0 col9\" >visib</th> \n",
       "    </tr></thead> \n",
       "<tbody>    <tr> \n",
       "        <th id=\"T_1652ff32_5cbe_11e9_b5ac_f0189852fe35level0_row0\" class=\"row_heading level0 row0\" >total_delay</th> \n",
       "        <td id=\"T_1652ff32_5cbe_11e9_b5ac_f0189852fe35row0_col0\" class=\"data row0 col0\" >1</td> \n",
       "        <td id=\"T_1652ff32_5cbe_11e9_b5ac_f0189852fe35row0_col1\" class=\"data row0 col1\" >0.072</td> \n",
       "        <td id=\"T_1652ff32_5cbe_11e9_b5ac_f0189852fe35row0_col2\" class=\"data row0 col2\" >0.069</td> \n",
       "        <td id=\"T_1652ff32_5cbe_11e9_b5ac_f0189852fe35row0_col3\" class=\"data row0 col3\" >0.023</td> \n",
       "        <td id=\"T_1652ff32_5cbe_11e9_b5ac_f0189852fe35row0_col4\" class=\"data row0 col4\" >-0.0087</td> \n",
       "        <td id=\"T_1652ff32_5cbe_11e9_b5ac_f0189852fe35row0_col5\" class=\"data row0 col5\" >0.024</td> \n",
       "        <td id=\"T_1652ff32_5cbe_11e9_b5ac_f0189852fe35row0_col6\" class=\"data row0 col6\" >0.024</td> \n",
       "        <td id=\"T_1652ff32_5cbe_11e9_b5ac_f0189852fe35row0_col7\" class=\"data row0 col7\" >0.065</td> \n",
       "        <td id=\"T_1652ff32_5cbe_11e9_b5ac_f0189852fe35row0_col8\" class=\"data row0 col8\" >-0.11</td> \n",
       "        <td id=\"T_1652ff32_5cbe_11e9_b5ac_f0189852fe35row0_col9\" class=\"data row0 col9\" >-0.12</td> \n",
       "    </tr>    <tr> \n",
       "        <th id=\"T_1652ff32_5cbe_11e9_b5ac_f0189852fe35level0_row1\" class=\"row_heading level0 row1\" >temp</th> \n",
       "        <td id=\"T_1652ff32_5cbe_11e9_b5ac_f0189852fe35row1_col0\" class=\"data row1 col0\" >0.072</td> \n",
       "        <td id=\"T_1652ff32_5cbe_11e9_b5ac_f0189852fe35row1_col1\" class=\"data row1 col1\" >1</td> \n",
       "        <td id=\"T_1652ff32_5cbe_11e9_b5ac_f0189852fe35row1_col2\" class=\"data row1 col2\" >0.88</td> \n",
       "        <td id=\"T_1652ff32_5cbe_11e9_b5ac_f0189852fe35row1_col3\" class=\"data row1 col3\" >0.013</td> \n",
       "        <td id=\"T_1652ff32_5cbe_11e9_b5ac_f0189852fe35row1_col4\" class=\"data row1 col4\" >-0.052</td> \n",
       "        <td id=\"T_1652ff32_5cbe_11e9_b5ac_f0189852fe35row1_col5\" class=\"data row1 col5\" >-0.04</td> \n",
       "        <td id=\"T_1652ff32_5cbe_11e9_b5ac_f0189852fe35row1_col6\" class=\"data row1 col6\" >-0.04</td> \n",
       "        <td id=\"T_1652ff32_5cbe_11e9_b5ac_f0189852fe35row1_col7\" class=\"data row1 col7\" >-0.0023</td> \n",
       "        <td id=\"T_1652ff32_5cbe_11e9_b5ac_f0189852fe35row1_col8\" class=\"data row1 col8\" >-0.25</td> \n",
       "        <td id=\"T_1652ff32_5cbe_11e9_b5ac_f0189852fe35row1_col9\" class=\"data row1 col9\" >0.07</td> \n",
       "    </tr>    <tr> \n",
       "        <th id=\"T_1652ff32_5cbe_11e9_b5ac_f0189852fe35level0_row2\" class=\"row_heading level0 row2\" >dewp</th> \n",
       "        <td id=\"T_1652ff32_5cbe_11e9_b5ac_f0189852fe35row2_col0\" class=\"data row2 col0\" >0.069</td> \n",
       "        <td id=\"T_1652ff32_5cbe_11e9_b5ac_f0189852fe35row2_col1\" class=\"data row2 col1\" >0.88</td> \n",
       "        <td id=\"T_1652ff32_5cbe_11e9_b5ac_f0189852fe35row2_col2\" class=\"data row2 col2\" >1</td> \n",
       "        <td id=\"T_1652ff32_5cbe_11e9_b5ac_f0189852fe35row2_col3\" class=\"data row2 col3\" >0.47</td> \n",
       "        <td id=\"T_1652ff32_5cbe_11e9_b5ac_f0189852fe35row2_col4\" class=\"data row2 col4\" >-0.19</td> \n",
       "        <td id=\"T_1652ff32_5cbe_11e9_b5ac_f0189852fe35row2_col5\" class=\"data row2 col5\" >-0.088</td> \n",
       "        <td id=\"T_1652ff32_5cbe_11e9_b5ac_f0189852fe35row2_col6\" class=\"data row2 col6\" >-0.088</td> \n",
       "        <td id=\"T_1652ff32_5cbe_11e9_b5ac_f0189852fe35row2_col7\" class=\"data row2 col7\" >0.069</td> \n",
       "        <td id=\"T_1652ff32_5cbe_11e9_b5ac_f0189852fe35row2_col8\" class=\"data row2 col8\" >-0.29</td> \n",
       "        <td id=\"T_1652ff32_5cbe_11e9_b5ac_f0189852fe35row2_col9\" class=\"data row2 col9\" >-0.14</td> \n",
       "    </tr>    <tr> \n",
       "        <th id=\"T_1652ff32_5cbe_11e9_b5ac_f0189852fe35level0_row3\" class=\"row_heading level0 row3\" >humid</th> \n",
       "        <td id=\"T_1652ff32_5cbe_11e9_b5ac_f0189852fe35row3_col0\" class=\"data row3 col0\" >0.023</td> \n",
       "        <td id=\"T_1652ff32_5cbe_11e9_b5ac_f0189852fe35row3_col1\" class=\"data row3 col1\" >0.013</td> \n",
       "        <td id=\"T_1652ff32_5cbe_11e9_b5ac_f0189852fe35row3_col2\" class=\"data row3 col2\" >0.47</td> \n",
       "        <td id=\"T_1652ff32_5cbe_11e9_b5ac_f0189852fe35row3_col3\" class=\"data row3 col3\" >1</td> \n",
       "        <td id=\"T_1652ff32_5cbe_11e9_b5ac_f0189852fe35row3_col4\" class=\"data row3 col4\" >-0.33</td> \n",
       "        <td id=\"T_1652ff32_5cbe_11e9_b5ac_f0189852fe35row3_col5\" class=\"data row3 col5\" >-0.12</td> \n",
       "        <td id=\"T_1652ff32_5cbe_11e9_b5ac_f0189852fe35row3_col6\" class=\"data row3 col6\" >-0.12</td> \n",
       "        <td id=\"T_1652ff32_5cbe_11e9_b5ac_f0189852fe35row3_col7\" class=\"data row3 col7\" >0.18</td> \n",
       "        <td id=\"T_1652ff32_5cbe_11e9_b5ac_f0189852fe35row3_col8\" class=\"data row3 col8\" >-0.16</td> \n",
       "        <td id=\"T_1652ff32_5cbe_11e9_b5ac_f0189852fe35row3_col9\" class=\"data row3 col9\" >-0.51</td> \n",
       "    </tr>    <tr> \n",
       "        <th id=\"T_1652ff32_5cbe_11e9_b5ac_f0189852fe35level0_row4\" class=\"row_heading level0 row4\" >wind_dir</th> \n",
       "        <td id=\"T_1652ff32_5cbe_11e9_b5ac_f0189852fe35row4_col0\" class=\"data row4 col0\" >-0.0087</td> \n",
       "        <td id=\"T_1652ff32_5cbe_11e9_b5ac_f0189852fe35row4_col1\" class=\"data row4 col1\" >-0.052</td> \n",
       "        <td id=\"T_1652ff32_5cbe_11e9_b5ac_f0189852fe35row4_col2\" class=\"data row4 col2\" >-0.19</td> \n",
       "        <td id=\"T_1652ff32_5cbe_11e9_b5ac_f0189852fe35row4_col3\" class=\"data row4 col3\" >-0.33</td> \n",
       "        <td id=\"T_1652ff32_5cbe_11e9_b5ac_f0189852fe35row4_col4\" class=\"data row4 col4\" >1</td> \n",
       "        <td id=\"T_1652ff32_5cbe_11e9_b5ac_f0189852fe35row4_col5\" class=\"data row4 col5\" >0.14</td> \n",
       "        <td id=\"T_1652ff32_5cbe_11e9_b5ac_f0189852fe35row4_col6\" class=\"data row4 col6\" >0.14</td> \n",
       "        <td id=\"T_1652ff32_5cbe_11e9_b5ac_f0189852fe35row4_col7\" class=\"data row4 col7\" >-0.076</td> \n",
       "        <td id=\"T_1652ff32_5cbe_11e9_b5ac_f0189852fe35row4_col8\" class=\"data row4 col8\" >-0.21</td> \n",
       "        <td id=\"T_1652ff32_5cbe_11e9_b5ac_f0189852fe35row4_col9\" class=\"data row4 col9\" >0.24</td> \n",
       "    </tr>    <tr> \n",
       "        <th id=\"T_1652ff32_5cbe_11e9_b5ac_f0189852fe35level0_row5\" class=\"row_heading level0 row5\" >wind_speed</th> \n",
       "        <td id=\"T_1652ff32_5cbe_11e9_b5ac_f0189852fe35row5_col0\" class=\"data row5 col0\" >0.024</td> \n",
       "        <td id=\"T_1652ff32_5cbe_11e9_b5ac_f0189852fe35row5_col1\" class=\"data row5 col1\" >-0.04</td> \n",
       "        <td id=\"T_1652ff32_5cbe_11e9_b5ac_f0189852fe35row5_col2\" class=\"data row5 col2\" >-0.088</td> \n",
       "        <td id=\"T_1652ff32_5cbe_11e9_b5ac_f0189852fe35row5_col3\" class=\"data row5 col3\" >-0.12</td> \n",
       "        <td id=\"T_1652ff32_5cbe_11e9_b5ac_f0189852fe35row5_col4\" class=\"data row5 col4\" >0.14</td> \n",
       "        <td id=\"T_1652ff32_5cbe_11e9_b5ac_f0189852fe35row5_col5\" class=\"data row5 col5\" >1</td> \n",
       "        <td id=\"T_1652ff32_5cbe_11e9_b5ac_f0189852fe35row5_col6\" class=\"data row5 col6\" >1</td> \n",
       "        <td id=\"T_1652ff32_5cbe_11e9_b5ac_f0189852fe35row5_col7\" class=\"data row5 col7\" >-0.0047</td> \n",
       "        <td id=\"T_1652ff32_5cbe_11e9_b5ac_f0189852fe35row5_col8\" class=\"data row5 col8\" >-0.085</td> \n",
       "        <td id=\"T_1652ff32_5cbe_11e9_b5ac_f0189852fe35row5_col9\" class=\"data row5 col9\" >0.049</td> \n",
       "    </tr>    <tr> \n",
       "        <th id=\"T_1652ff32_5cbe_11e9_b5ac_f0189852fe35level0_row6\" class=\"row_heading level0 row6\" >wind_gust</th> \n",
       "        <td id=\"T_1652ff32_5cbe_11e9_b5ac_f0189852fe35row6_col0\" class=\"data row6 col0\" >0.024</td> \n",
       "        <td id=\"T_1652ff32_5cbe_11e9_b5ac_f0189852fe35row6_col1\" class=\"data row6 col1\" >-0.04</td> \n",
       "        <td id=\"T_1652ff32_5cbe_11e9_b5ac_f0189852fe35row6_col2\" class=\"data row6 col2\" >-0.088</td> \n",
       "        <td id=\"T_1652ff32_5cbe_11e9_b5ac_f0189852fe35row6_col3\" class=\"data row6 col3\" >-0.12</td> \n",
       "        <td id=\"T_1652ff32_5cbe_11e9_b5ac_f0189852fe35row6_col4\" class=\"data row6 col4\" >0.14</td> \n",
       "        <td id=\"T_1652ff32_5cbe_11e9_b5ac_f0189852fe35row6_col5\" class=\"data row6 col5\" >1</td> \n",
       "        <td id=\"T_1652ff32_5cbe_11e9_b5ac_f0189852fe35row6_col6\" class=\"data row6 col6\" >1</td> \n",
       "        <td id=\"T_1652ff32_5cbe_11e9_b5ac_f0189852fe35row6_col7\" class=\"data row6 col7\" >-0.0047</td> \n",
       "        <td id=\"T_1652ff32_5cbe_11e9_b5ac_f0189852fe35row6_col8\" class=\"data row6 col8\" >-0.085</td> \n",
       "        <td id=\"T_1652ff32_5cbe_11e9_b5ac_f0189852fe35row6_col9\" class=\"data row6 col9\" >0.049</td> \n",
       "    </tr>    <tr> \n",
       "        <th id=\"T_1652ff32_5cbe_11e9_b5ac_f0189852fe35level0_row7\" class=\"row_heading level0 row7\" >precip</th> \n",
       "        <td id=\"T_1652ff32_5cbe_11e9_b5ac_f0189852fe35row7_col0\" class=\"data row7 col0\" >0.065</td> \n",
       "        <td id=\"T_1652ff32_5cbe_11e9_b5ac_f0189852fe35row7_col1\" class=\"data row7 col1\" >-0.0023</td> \n",
       "        <td id=\"T_1652ff32_5cbe_11e9_b5ac_f0189852fe35row7_col2\" class=\"data row7 col2\" >0.069</td> \n",
       "        <td id=\"T_1652ff32_5cbe_11e9_b5ac_f0189852fe35row7_col3\" class=\"data row7 col3\" >0.18</td> \n",
       "        <td id=\"T_1652ff32_5cbe_11e9_b5ac_f0189852fe35row7_col4\" class=\"data row7 col4\" >-0.076</td> \n",
       "        <td id=\"T_1652ff32_5cbe_11e9_b5ac_f0189852fe35row7_col5\" class=\"data row7 col5\" >-0.0047</td> \n",
       "        <td id=\"T_1652ff32_5cbe_11e9_b5ac_f0189852fe35row7_col6\" class=\"data row7 col6\" >-0.0047</td> \n",
       "        <td id=\"T_1652ff32_5cbe_11e9_b5ac_f0189852fe35row7_col7\" class=\"data row7 col7\" >1</td> \n",
       "        <td id=\"T_1652ff32_5cbe_11e9_b5ac_f0189852fe35row7_col8\" class=\"data row7 col8\" >-0.088</td> \n",
       "        <td id=\"T_1652ff32_5cbe_11e9_b5ac_f0189852fe35row7_col9\" class=\"data row7 col9\" >-0.29</td> \n",
       "    </tr>    <tr> \n",
       "        <th id=\"T_1652ff32_5cbe_11e9_b5ac_f0189852fe35level0_row8\" class=\"row_heading level0 row8\" >pressure</th> \n",
       "        <td id=\"T_1652ff32_5cbe_11e9_b5ac_f0189852fe35row8_col0\" class=\"data row8 col0\" >-0.11</td> \n",
       "        <td id=\"T_1652ff32_5cbe_11e9_b5ac_f0189852fe35row8_col1\" class=\"data row8 col1\" >-0.25</td> \n",
       "        <td id=\"T_1652ff32_5cbe_11e9_b5ac_f0189852fe35row8_col2\" class=\"data row8 col2\" >-0.29</td> \n",
       "        <td id=\"T_1652ff32_5cbe_11e9_b5ac_f0189852fe35row8_col3\" class=\"data row8 col3\" >-0.16</td> \n",
       "        <td id=\"T_1652ff32_5cbe_11e9_b5ac_f0189852fe35row8_col4\" class=\"data row8 col4\" >-0.21</td> \n",
       "        <td id=\"T_1652ff32_5cbe_11e9_b5ac_f0189852fe35row8_col5\" class=\"data row8 col5\" >-0.085</td> \n",
       "        <td id=\"T_1652ff32_5cbe_11e9_b5ac_f0189852fe35row8_col6\" class=\"data row8 col6\" >-0.085</td> \n",
       "        <td id=\"T_1652ff32_5cbe_11e9_b5ac_f0189852fe35row8_col7\" class=\"data row8 col7\" >-0.088</td> \n",
       "        <td id=\"T_1652ff32_5cbe_11e9_b5ac_f0189852fe35row8_col8\" class=\"data row8 col8\" >1</td> \n",
       "        <td id=\"T_1652ff32_5cbe_11e9_b5ac_f0189852fe35row8_col9\" class=\"data row8 col9\" >0.11</td> \n",
       "    </tr>    <tr> \n",
       "        <th id=\"T_1652ff32_5cbe_11e9_b5ac_f0189852fe35level0_row9\" class=\"row_heading level0 row9\" >visib</th> \n",
       "        <td id=\"T_1652ff32_5cbe_11e9_b5ac_f0189852fe35row9_col0\" class=\"data row9 col0\" >-0.12</td> \n",
       "        <td id=\"T_1652ff32_5cbe_11e9_b5ac_f0189852fe35row9_col1\" class=\"data row9 col1\" >0.07</td> \n",
       "        <td id=\"T_1652ff32_5cbe_11e9_b5ac_f0189852fe35row9_col2\" class=\"data row9 col2\" >-0.14</td> \n",
       "        <td id=\"T_1652ff32_5cbe_11e9_b5ac_f0189852fe35row9_col3\" class=\"data row9 col3\" >-0.51</td> \n",
       "        <td id=\"T_1652ff32_5cbe_11e9_b5ac_f0189852fe35row9_col4\" class=\"data row9 col4\" >0.24</td> \n",
       "        <td id=\"T_1652ff32_5cbe_11e9_b5ac_f0189852fe35row9_col5\" class=\"data row9 col5\" >0.049</td> \n",
       "        <td id=\"T_1652ff32_5cbe_11e9_b5ac_f0189852fe35row9_col6\" class=\"data row9 col6\" >0.049</td> \n",
       "        <td id=\"T_1652ff32_5cbe_11e9_b5ac_f0189852fe35row9_col7\" class=\"data row9 col7\" >-0.29</td> \n",
       "        <td id=\"T_1652ff32_5cbe_11e9_b5ac_f0189852fe35row9_col8\" class=\"data row9 col8\" >0.11</td> \n",
       "        <td id=\"T_1652ff32_5cbe_11e9_b5ac_f0189852fe35row9_col9\" class=\"data row9 col9\" >1</td> \n",
       "    </tr></tbody> \n",
       "</table> "
      ],
      "text/plain": [
       "<pandas.io.formats.style.Styler at 0xa1a8abef0>"
      ]
     },
     "execution_count": 40,
     "metadata": {},
     "output_type": "execute_result"
    }
   ],
   "source": [
    "weather_df= pd.read_csv('weather.csv')\n",
    "print (weather_df.shape)\n",
    "print (weather_df.columns)\n",
    "flights_df['dep_delay'] = flights_df['dep_delay'].apply(lambda x: x if x >=0 else 0)\n",
    "# alternate way to filter delays:\n",
    "# flights_df['dep_delay'] = np.where(flights_df['dep_delay']>=0, flights_df['dep_delay'], 0)\n",
    "\n",
    "flights_df['dep_delay'].describe()\n",
    "flights_df['arr_delay'] = flights_df['arr_delay'].apply(lambda x: x if x >=0 else 0)\n",
    "flights_df['total_delay'] = flights_df['dep_delay'] + flights_df['arr_delay']\n",
    "\n",
    "weather_conditions_df = pd.merge(flights_df, weather_df, how='left', on=['origin','year', 'month', 'day','hour'])\n",
    "weather_conditions_df.head(10)\n",
    "weather_conditions_df = weather_conditions_df[['total_delay','temp','dewp','humid','wind_dir','wind_speed','wind_gust','precip','pressure','visib']]\n",
    "\n",
    "corr = weather_conditions_df.corr()\n",
    "corr.style.background_gradient(cmap='Oranges').set_precision(2)"
   ]
  },
  {
   "cell_type": "markdown",
   "metadata": {},
   "source": [
    "As seen from the above correlation matrix of the merged dataset from weather and flights, we see that wind_speed and wind_gust are highly correlated to each other. Secondly, total delay is maximum positively related to temprature and dew point as compared to other (though the correlation value is very less), and negatively related to visibility and pressure the highest (compared to others). Hence, with less visibility and less pressure in the air, due to harsh weather conditions, there could be increased flight delays."
   ]
  },
  {
   "cell_type": "code",
   "execution_count": 41,
   "metadata": {},
   "outputs": [
    {
     "data": {
      "text/html": [
       "<style  type=\"text/css\" >\n",
       "    #T_1655fbf6_5cbe_11e9_b5ac_f0189852fe35row0_col0 {\n",
       "            background-color:  #7f2704;\n",
       "        }    #T_1655fbf6_5cbe_11e9_b5ac_f0189852fe35row1_col0 {\n",
       "            background-color:  #fedebd;\n",
       "        }    #T_1655fbf6_5cbe_11e9_b5ac_f0189852fe35row2_col0 {\n",
       "            background-color:  #fedebf;\n",
       "        }    #T_1655fbf6_5cbe_11e9_b5ac_f0189852fe35row3_col0 {\n",
       "            background-color:  #fedfc0;\n",
       "        }    #T_1655fbf6_5cbe_11e9_b5ac_f0189852fe35row4_col0 {\n",
       "            background-color:  #fee5cc;\n",
       "        }    #T_1655fbf6_5cbe_11e9_b5ac_f0189852fe35row5_col0 {\n",
       "            background-color:  #fee5cc;\n",
       "        }    #T_1655fbf6_5cbe_11e9_b5ac_f0189852fe35row6_col0 {\n",
       "            background-color:  #fee5cc;\n",
       "        }    #T_1655fbf6_5cbe_11e9_b5ac_f0189852fe35row7_col0 {\n",
       "            background-color:  #fee9d4;\n",
       "        }    #T_1655fbf6_5cbe_11e9_b5ac_f0189852fe35row8_col0 {\n",
       "            background-color:  #fff4e9;\n",
       "        }    #T_1655fbf6_5cbe_11e9_b5ac_f0189852fe35row9_col0 {\n",
       "            background-color:  #fff5eb;\n",
       "        }</style>  \n",
       "<table id=\"T_1655fbf6_5cbe_11e9_b5ac_f0189852fe35\" > \n",
       "<thead>    <tr> \n",
       "        <th class=\"blank level0\" ></th> \n",
       "        <th class=\"col_heading level0 col0\" >total_delay</th> \n",
       "    </tr></thead> \n",
       "<tbody>    <tr> \n",
       "        <th id=\"T_1655fbf6_5cbe_11e9_b5ac_f0189852fe35level0_row0\" class=\"row_heading level0 row0\" >total_delay</th> \n",
       "        <td id=\"T_1655fbf6_5cbe_11e9_b5ac_f0189852fe35row0_col0\" class=\"data row0 col0\" >1</td> \n",
       "    </tr>    <tr> \n",
       "        <th id=\"T_1655fbf6_5cbe_11e9_b5ac_f0189852fe35level0_row1\" class=\"row_heading level0 row1\" >temp</th> \n",
       "        <td id=\"T_1655fbf6_5cbe_11e9_b5ac_f0189852fe35row1_col0\" class=\"data row1 col0\" >0.072</td> \n",
       "    </tr>    <tr> \n",
       "        <th id=\"T_1655fbf6_5cbe_11e9_b5ac_f0189852fe35level0_row2\" class=\"row_heading level0 row2\" >dewp</th> \n",
       "        <td id=\"T_1655fbf6_5cbe_11e9_b5ac_f0189852fe35row2_col0\" class=\"data row2 col0\" >0.069</td> \n",
       "    </tr>    <tr> \n",
       "        <th id=\"T_1655fbf6_5cbe_11e9_b5ac_f0189852fe35level0_row3\" class=\"row_heading level0 row3\" >precip</th> \n",
       "        <td id=\"T_1655fbf6_5cbe_11e9_b5ac_f0189852fe35row3_col0\" class=\"data row3 col0\" >0.065</td> \n",
       "    </tr>    <tr> \n",
       "        <th id=\"T_1655fbf6_5cbe_11e9_b5ac_f0189852fe35level0_row4\" class=\"row_heading level0 row4\" >wind_gust</th> \n",
       "        <td id=\"T_1655fbf6_5cbe_11e9_b5ac_f0189852fe35row4_col0\" class=\"data row4 col0\" >0.024</td> \n",
       "    </tr>    <tr> \n",
       "        <th id=\"T_1655fbf6_5cbe_11e9_b5ac_f0189852fe35level0_row5\" class=\"row_heading level0 row5\" >wind_speed</th> \n",
       "        <td id=\"T_1655fbf6_5cbe_11e9_b5ac_f0189852fe35row5_col0\" class=\"data row5 col0\" >0.024</td> \n",
       "    </tr>    <tr> \n",
       "        <th id=\"T_1655fbf6_5cbe_11e9_b5ac_f0189852fe35level0_row6\" class=\"row_heading level0 row6\" >humid</th> \n",
       "        <td id=\"T_1655fbf6_5cbe_11e9_b5ac_f0189852fe35row6_col0\" class=\"data row6 col0\" >0.023</td> \n",
       "    </tr>    <tr> \n",
       "        <th id=\"T_1655fbf6_5cbe_11e9_b5ac_f0189852fe35level0_row7\" class=\"row_heading level0 row7\" >wind_dir</th> \n",
       "        <td id=\"T_1655fbf6_5cbe_11e9_b5ac_f0189852fe35row7_col0\" class=\"data row7 col0\" >-0.0087</td> \n",
       "    </tr>    <tr> \n",
       "        <th id=\"T_1655fbf6_5cbe_11e9_b5ac_f0189852fe35level0_row8\" class=\"row_heading level0 row8\" >pressure</th> \n",
       "        <td id=\"T_1655fbf6_5cbe_11e9_b5ac_f0189852fe35row8_col0\" class=\"data row8 col0\" >-0.11</td> \n",
       "    </tr>    <tr> \n",
       "        <th id=\"T_1655fbf6_5cbe_11e9_b5ac_f0189852fe35level0_row9\" class=\"row_heading level0 row9\" >visib</th> \n",
       "        <td id=\"T_1655fbf6_5cbe_11e9_b5ac_f0189852fe35row9_col0\" class=\"data row9 col0\" >-0.12</td> \n",
       "    </tr></tbody> \n",
       "</table> "
      ],
      "text/plain": [
       "<pandas.io.formats.style.Styler at 0xa1c529f98>"
      ]
     },
     "execution_count": 41,
     "metadata": {},
     "output_type": "execute_result"
    }
   ],
   "source": [
    "corr['total_delay'].sort_values(ascending = False).to_frame().style.background_gradient(cmap='Oranges').set_precision(2)"
   ]
  },
  {
   "cell_type": "code",
   "execution_count": 42,
   "metadata": {},
   "outputs": [
    {
     "data": {
      "text/plain": [
       "Text(0.5, 1.0, 'Visibility vs Total Delay')"
      ]
     },
     "execution_count": 42,
     "metadata": {},
     "output_type": "execute_result"
    },
    {
     "data": {
      "image/png": "[encoded data removed]",
      "text/plain": [
       "<Figure size 432x288 with 1 Axes>"
      ]
     },
     "metadata": {
      "needs_background": "light"
     },
     "output_type": "display_data"
    }
   ],
   "source": [
    "#Visibility vs Total delay\n",
    "temp = weather_conditions_df.groupby(['visib'])['total_delay'].mean()\n",
    "plt.plot(temp)\n",
    "plt.xlabel(\"Visibility\")\n",
    "plt.ylabel(\"Total Delay (in minutes)\")\n",
    "plt.title('Visibility vs Total Delay')"
   ]
  },
  {
   "cell_type": "code",
   "execution_count": 43,
   "metadata": {},
   "outputs": [
    {
     "data": {
      "text/plain": [
       "Text(0.5, 1.0, 'Pressure vs Total Delay')"
      ]
     },
     "execution_count": 43,
     "metadata": {},
     "output_type": "execute_result"
    },
    {
     "data": {
      "image/png": "[encoded data removed]",
      "text/plain": [
       "<Figure size 432x288 with 1 Axes>"
      ]
     },
     "metadata": {
      "needs_background": "light"
     },
     "output_type": "display_data"
    }
   ],
   "source": [
    "#Pressure vs Total delay\n",
    "temp = weather_conditions_df.groupby(['pressure'])['total_delay'].mean()\n",
    "plt.plot(temp)\n",
    "plt.xlabel(\"Pressure\")\n",
    "plt.ylabel(\"Total Delay (in minutes)\")\n",
    "plt.title('Pressure vs Total Delay')"
   ]
  },
  {
   "cell_type": "code",
   "execution_count": 44,
   "metadata": {},
   "outputs": [
    {
     "data": {
      "text/plain": [
       "Text(0.5, 1.0, 'Temperature vs Total Delay')"
      ]
     },
     "execution_count": 44,
     "metadata": {},
     "output_type": "execute_result"
    },
    {
     "data": {
      "image/png": "[encoded data removed]",
      "text/plain": [
       "<Figure size 432x288 with 1 Axes>"
      ]
     },
     "metadata": {
      "needs_background": "light"
     },
     "output_type": "display_data"
    }
   ],
   "source": [
    "#Temperature vs Total delay\n",
    "temp = weather_conditions_df.groupby(['temp'])['total_delay'].mean()\n",
    "plt.plot(temp)\n",
    "plt.xlabel(\"Temperature\")\n",
    "plt.ylabel(\"Total Delay (in minutes)\")\n",
    "plt.title('Temperature vs Total Delay')"
   ]
  }
 ],
 "metadata": {
  "kernelspec": {
   "display_name": "Python 3",
   "language": "python",
   "name": "python3"
  },
  "language_info": {
   "codemirror_mode": {
    "name": "ipython",
    "version": 3
   },
   "file_extension": ".py",
   "mimetype": "text/x-python",
   "name": "python",
   "nbconvert_exporter": "python",
   "pygments_lexer": "ipython3",
   "version": "3.7.1"
  }
 },
 "nbformat": 4,
 "nbformat_minor": 1
}
